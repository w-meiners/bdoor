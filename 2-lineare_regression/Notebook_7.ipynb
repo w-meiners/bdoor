{
 "cells": [
  {
   "cell_type": "markdown",
   "metadata": {},
   "source": [
    "# Aufgabe\n",
    "\n",
    "Bestimmung der Regressionsgeraden aus den simulierten Messwerten in der Datei\n",
    "\n",
    "`Messdaten_Notebook_6.csv`\n",
    "\n",
    "Die Regressionsgerade kann dabei entweder durch Aufstellen der Fehlerquadratsumme und Lösung des zugehörigen linearen Gleichungssystems oder direkt durch Benutzen des Moduls `scipy.optimize` geschehen."
   ]
  },
  {
   "cell_type": "code",
   "execution_count": 1,
   "metadata": {},
   "outputs": [],
   "source": [
    "# Ihre Lösung beginnt hier"
   ]
  }
 ],
 "metadata": {
  "kernelspec": {
   "display_name": "Python 3",
   "language": "python",
   "name": "python3"
  },
  "language_info": {
   "codemirror_mode": {
    "name": "ipython",
    "version": 3
   },
   "file_extension": ".py",
   "mimetype": "text/x-python",
   "name": "python",
   "nbconvert_exporter": "python",
   "pygments_lexer": "ipython3",
   "version": "3.7.2"
  }
 },
 "nbformat": 4,
 "nbformat_minor": 2
}
