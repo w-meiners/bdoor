{
 "cells": [
  {
   "cell_type": "markdown",
   "metadata": {},
   "source": [
    "# Information\n",
    "\n",
    "Mit diesem Notebook lassen sich Messwerte simulieren.\n",
    "\n",
    "Diese simulierten Messwerte können in eine `csv`-Datei geschrieben werden und dann mit Hilfe der linearen Regression untersucht werden. Das Programm zur Simulation von Messwerten ist in der Datei\n",
    "\n",
    "`messwerte.py` \n",
    "\n",
    "unter dem Namen `rand_lin_messwerte()` zu finden. Der Standardaufruf lautet\n",
    "\n",
    "`lx, ly = mw.rand_lin_messwerte(n, x_0, x_1, a, b, epsilon=0.05)`\n",
    "\n",
    "Dabei ist `n` die Zahl der Messwerte und `x_0` und `x_1` legen das Messintervall fest. Die Parameter $a$ und $b$ sind die Koeffizienten der linearen Funktion $y=a\\,x+b$ und `epsilon` ist der relative Fehler bezogen auf den maximalen Messwert. Der Defaultwert für diesen Messfehler ist 5%.\n",
    "\n"
   ]
  },
  {
   "cell_type": "markdown",
   "metadata": {},
   "source": [
    "## Aufgabe\n",
    "\n",
    "Wählen Sie geeignete Werte für die Aufrufparameter von `mw.rand_lin_messwerte()` und schreiben Sie die generierten Daten in eine `csv`-Datei. Diese soll den Namen\n",
    "\n",
    "`Messdaten_Notebook_6.csv`\n",
    "\n",
    "haben.\n",
    "\n",
    "Erstellen Sie anschließend ein Notebook `Notebook_7.ipynb`, in dem Sie aus den von Ihnen generierten Daten die Regressionsgrade ermitteln. Stellen Sie die Regressionsgrade in einem Diagramm dar und beurteilen Sie die Qualität der Regression."
   ]
  },
  {
   "cell_type": "code",
   "execution_count": 1,
   "metadata": {},
   "outputs": [],
   "source": [
    "from sympy import *\n",
    "init_printing()\n",
    "\n",
    "import matplotlib.pyplot as plt\n",
    "%matplotlib inline\n",
    "%config InlineBackend.figure_format='retina'\n",
    "\n",
    "import numpy as np\n",
    "import pandas as pd\n",
    "\n",
    "import messwerte as mw\n",
    "from fun_expr import Function_from_Expression as FE"
   ]
  },
  {
   "cell_type": "markdown",
   "metadata": {},
   "source": [
    "**Hinweis:** Die Aufrufparameter der Funktion `mw.rand_lin_messwerte()` sind:\n",
    "\n",
    "- n: Anzahl der Messpunkte\n",
    "- x_0, x_1: Das Intervall $x_0 \\le x \\le x_1$\n",
    "\n",
    "\n",
    "- a: Die Steigung der Funktion, die simuliert werden soll\n",
    "- b: Der Achsenabschnitt der Funktion, die simuliert werden soll\n",
    "\n",
    "\n",
    "- epsilon: Der Messfeher der Daten, die simuliert werden"
   ]
  },
  {
   "cell_type": "code",
   "execution_count": 2,
   "metadata": {},
   "outputs": [],
   "source": [
    "# Definiere den relativen Fehler der Simulation\n",
    "epsilon=2.50e-2 # 2.5%\n",
    "\n",
    "# Lege das Intervall x_0 <= x <= x_1 fest\n",
    "x_0 = 0\n",
    "x_1 = 10\n",
    "\n",
    "# Lege die Koeffizienten a und b fest\n",
    "a_0 = 0.5\n",
    "b_0 = 2\n",
    "\n",
    "# Lege den Dateinamen fest, in den die Daten geschrieben werden sollen\n",
    "pfad = 'Messdaten_Notebook_6.csv'"
   ]
  },
  {
   "cell_type": "code",
   "execution_count": 3,
   "metadata": {},
   "outputs": [
    {
     "data": {
      "text/html": [
       "<div>\n",
       "<style scoped>\n",
       "    .dataframe tbody tr th:only-of-type {\n",
       "        vertical-align: middle;\n",
       "    }\n",
       "\n",
       "    .dataframe tbody tr th {\n",
       "        vertical-align: top;\n",
       "    }\n",
       "\n",
       "    .dataframe thead th {\n",
       "        text-align: right;\n",
       "    }\n",
       "</style>\n",
       "<table border=\"1\" class=\"dataframe\">\n",
       "  <thead>\n",
       "    <tr style=\"text-align: right;\">\n",
       "      <th></th>\n",
       "      <th>x</th>\n",
       "      <th>y</th>\n",
       "    </tr>\n",
       "  </thead>\n",
       "  <tbody>\n",
       "    <tr>\n",
       "      <th>0</th>\n",
       "      <td>0.0</td>\n",
       "      <td>2.059989</td>\n",
       "    </tr>\n",
       "    <tr>\n",
       "      <th>1</th>\n",
       "      <td>1.0</td>\n",
       "      <td>2.513545</td>\n",
       "    </tr>\n",
       "    <tr>\n",
       "      <th>2</th>\n",
       "      <td>2.0</td>\n",
       "      <td>3.003098</td>\n",
       "    </tr>\n",
       "    <tr>\n",
       "      <th>3</th>\n",
       "      <td>3.0</td>\n",
       "      <td>3.501048</td>\n",
       "    </tr>\n",
       "    <tr>\n",
       "      <th>4</th>\n",
       "      <td>4.0</td>\n",
       "      <td>3.998152</td>\n",
       "    </tr>\n",
       "    <tr>\n",
       "      <th>5</th>\n",
       "      <td>5.0</td>\n",
       "      <td>4.486434</td>\n",
       "    </tr>\n",
       "    <tr>\n",
       "      <th>6</th>\n",
       "      <td>6.0</td>\n",
       "      <td>4.953497</td>\n",
       "    </tr>\n",
       "    <tr>\n",
       "      <th>7</th>\n",
       "      <td>7.0</td>\n",
       "      <td>5.458143</td>\n",
       "    </tr>\n",
       "    <tr>\n",
       "      <th>8</th>\n",
       "      <td>8.0</td>\n",
       "      <td>5.965929</td>\n",
       "    </tr>\n",
       "    <tr>\n",
       "      <th>9</th>\n",
       "      <td>9.0</td>\n",
       "      <td>6.462904</td>\n",
       "    </tr>\n",
       "    <tr>\n",
       "      <th>10</th>\n",
       "      <td>10.0</td>\n",
       "      <td>6.994665</td>\n",
       "    </tr>\n",
       "  </tbody>\n",
       "</table>\n",
       "</div>"
      ],
      "text/plain": [
       "       x         y\n",
       "0    0.0  2.059989\n",
       "1    1.0  2.513545\n",
       "2    2.0  3.003098\n",
       "3    3.0  3.501048\n",
       "4    4.0  3.998152\n",
       "5    5.0  4.486434\n",
       "6    6.0  4.953497\n",
       "7    7.0  5.458143\n",
       "8    8.0  5.965929\n",
       "9    9.0  6.462904\n",
       "10  10.0  6.994665"
      ]
     },
     "execution_count": 3,
     "metadata": {},
     "output_type": "execute_result"
    }
   ],
   "source": [
    "lx, ly = mw.rand_lin_messwerte(\n",
    "    n=11,\n",
    "    x_0 = x_0,\n",
    "    x_1 = x_1,\n",
    "    a = a_0,\n",
    "    b = b_0,\n",
    "    epsilon = epsilon\n",
    ")\n",
    "\n",
    "df = pd.DataFrame(\n",
    "    {\n",
    "        'x': lx,\n",
    "        'y': ly\n",
    "    }\n",
    ")\n",
    "\n",
    "df"
   ]
  },
  {
   "cell_type": "markdown",
   "metadata": {},
   "source": [
    "Plot des Datensatzes:"
   ]
  },
  {
   "cell_type": "code",
   "execution_count": 4,
   "metadata": {},
   "outputs": [
    {
     "data": {
      "text/plain": [
       "<matplotlib.legend.Legend at 0x1099e3550>"
      ]
     },
     "execution_count": 4,
     "metadata": {},
     "output_type": "execute_result"
    },
    {
     "data": {
      "image/png": "[encoded data removed]",
      "text/plain": [
       "<Figure size 432x288 with 1 Axes>"
      ]
     },
     "metadata": {
      "image/png": {
       "height": 261,
       "width": 376
      },
      "needs_background": "light"
     },
     "output_type": "display_data"
    }
   ],
   "source": [
    "ax = df.plot(kind='scatter',x='x',y='y', label='Testwerte')\n",
    "ax.plot(lx, a_0*lx + b_0,label='Original',c='r',ls='dotted')\n",
    "ax.legend()"
   ]
  },
  {
   "cell_type": "markdown",
   "metadata": {},
   "source": [
    "Datensatz in die `csv`-Datei schreiben"
   ]
  },
  {
   "cell_type": "code",
   "execution_count": 5,
   "metadata": {},
   "outputs": [],
   "source": [
    "df.to_csv(pfad,index=None)"
   ]
  }
 ],
 "metadata": {
  "kernelspec": {
   "display_name": "Python 3",
   "language": "python",
   "name": "python3"
  },
  "language_info": {
   "codemirror_mode": {
    "name": "ipython",
    "version": 3
   },
   "file_extension": ".py",
   "mimetype": "text/x-python",
   "name": "python",
   "nbconvert_exporter": "python",
   "pygments_lexer": "ipython3",
   "version": "3.7.2"
  }
 },
 "nbformat": 4,
 "nbformat_minor": 2
}
