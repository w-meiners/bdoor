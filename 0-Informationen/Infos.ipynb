{
 "cells": [
  {
   "cell_type": "markdown",
   "metadata": {},
   "source": [
    "# Einige Infos zum Blower Door Test"
   ]
  },
  {
   "cell_type": "markdown",
   "metadata": {},
   "source": [
    "Zum Blowerdoortest gibt es eine gute Übersichtsseite bei Wikipedia:\n",
    "\n",
    "https://de.wikipedia.org/wiki/Differenzdruck-Messverfahren"
   ]
  },
  {
   "cell_type": "markdown",
   "metadata": {},
   "source": [
    "Informationen rund um den Blower Door Test findet man auch auf der Seite\n",
    "\n",
    "https://www.effizienzhaus-online.de/blower-door-test"
   ]
  },
  {
   "cell_type": "markdown",
   "metadata": {},
   "source": [
    "... und auf der Seite\n",
    "\n",
    "https://www.blowerdoor.de/de/messsysteme/blowerdoor-standard/blowerdoor-messprinzip/\n",
    "\n",
    "auf dieser Seite lässt sich auch die DIN-Norm DIN EN 13829, die gemeinfrei ist, herunterladen."
   ]
  },
  {
   "cell_type": "markdown",
   "metadata": {},
   "source": [
    "Die DIN EN 13829 ist auch unter dem Link\n",
    "\n",
    "https://www.luftdicht.de/DIN13829.pdf\n",
    "\n",
    "zu finden."
   ]
  },
  {
   "cell_type": "markdown",
   "metadata": {},
   "source": [
    "Weitere Erläuterungen findet man unter\n",
    "\n",
    "https://wissenwiki.de/Luftwechselrate"
   ]
  },
  {
   "cell_type": "markdown",
   "metadata": {},
   "source": [
    "# Infos zur linearen Regression"
   ]
  },
  {
   "cell_type": "markdown",
   "metadata": {},
   "source": [
    "Einen Übersichtsartikel findet auf Wikipedia:\n",
    "\n",
    "https://de.wikipedia.org/wiki/Lineare_Regression"
   ]
  },
  {
   "cell_type": "markdown",
   "metadata": {},
   "source": [
    "Ein Youtube Video zur linearen Regression ist das folgende:"
   ]
  },
  {
   "cell_type": "code",
   "execution_count": 1,
   "metadata": {},
   "outputs": [],
   "source": [
    "from IPython.display import YouTubeVideo"
   ]
  },
  {
   "cell_type": "code",
   "execution_count": 3,
   "metadata": {},
   "outputs": [
    {
     "data": {
      "image/jpeg": "[encoded data removed]",
      "text/html": [
       "\n",
       "        <iframe\n",
       "            width=\"400\"\n",
       "            height=\"300\"\n",
       "            src=\"https://www.youtube.com/embed/osPwkFkYvNc\"\n",
       "            frameborder=\"0\"\n",
       "            allowfullscreen\n",
       "        ></iframe>\n",
       "        "
      ],
      "text/plain": [
       "<IPython.lib.display.YouTubeVideo at 0x102a5fa90>"
      ]
     },
     "execution_count": 3,
     "metadata": {},
     "output_type": "execute_result"
    }
   ],
   "source": [
    "v = YouTubeVideo('osPwkFkYvNc')\n",
    "v"
   ]
  },
  {
   "cell_type": "code",
   "execution_count": null,
   "metadata": {},
   "outputs": [],
   "source": [
    "v = YouTubeVideo('F-XU5NahtXE')\n",
    "v"
   ]
  },
  {
   "cell_type": "code",
   "execution_count": null,
   "metadata": {},
   "outputs": [],
   "source": [
    "v = YouTubeVideo('WZKMzjfJ-x4')\n",
    "v"
   ]
  },
  {
   "cell_type": "markdown",
   "metadata": {},
   "source": [
    "# Regression bei Potenzfunktionen"
   ]
  },
  {
   "cell_type": "markdown",
   "metadata": {},
   "source": [
    "Eine kurze Darstellung findet man unter\n",
    "\n",
    "http://elsenaju.info/Rechnen/Ausgleichsgerade.htm#RWD-2"
   ]
  },
  {
   "cell_type": "code",
   "execution_count": null,
   "metadata": {},
   "outputs": [],
   "source": []
  }
 ],
 "metadata": {
  "kernelspec": {
   "display_name": "Python 3",
   "language": "python",
   "name": "python3"
  },
  "language_info": {
   "codemirror_mode": {
    "name": "ipython",
    "version": 3
   },
   "file_extension": ".py",
   "mimetype": "text/x-python",
   "name": "python",
   "nbconvert_exporter": "python",
   "pygments_lexer": "ipython3",
   "version": "3.7.2"
  }
 },
 "nbformat": 4,
 "nbformat_minor": 2
}
