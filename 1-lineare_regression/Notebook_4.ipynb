{
 "cells": [
  {
   "cell_type": "markdown",
   "metadata": {},
   "source": [
    "# Beispiel\n",
    "\n",
    "Die lineare Funktion\n",
    "\n",
    "$$\n",
    "  f(x) = 3\\,x -2\n",
    "$$\n",
    "\n",
    "wurde mit einem Messwertgeber aufgenommen. Die Messwerte sind dabei mit Fehlern von $\\pm 5\\%$ behaftet.\n",
    "\n",
    "Aus den Messwerten soll die Funktion so gut wie möglich rekonstruiert werden. Dazu wird die Methode der kleinsten Quadrate benutzt."
   ]
  },
  {
   "cell_type": "code",
   "execution_count": 1,
   "metadata": {},
   "outputs": [],
   "source": [
    "from sympy import *\n",
    "init_printing()\n",
    "\n",
    "import matplotlib.pyplot as plt\n",
    "%matplotlib inline\n",
    "%config InlineBackend.figure_format='retina'\n",
    "\n",
    "import numpy as np\n",
    "import pandas as pd"
   ]
  },
  {
   "cell_type": "code",
   "execution_count": 2,
   "metadata": {},
   "outputs": [],
   "source": [
    "# Steigung und Achenabschnitt\n",
    "a_0 = 3\n",
    "b_0 = -2\n",
    "\n",
    "# Messfehler:\n",
    "epsilon = 5.0e-2 # 5%"
   ]
  },
  {
   "cell_type": "markdown",
   "metadata": {},
   "source": [
    "Zunächst werden die Messwerte eingelesen. Sie stammen aus der `csv`-Datei `Messdaten.csv`. Dazu wird aus dem Modul `pandas` die Funktion `read_csv()` benutzt. Sie hat eine Reihe von Aufrufparametern, die man über die Tabulatorfunktion anzeigen lassen kann. In diesem Fall lautet der Aufruf einfach:\n",
    "\n",
    "`df = pd.read_csv('Messdaten.csv')`\n",
    "\n",
    "Dabei ist 'Messdaten.csv' die vollständige Pfadangabe, in diesem Fall liegt die Datei deshalb im gleichen Pfad."
   ]
  },
  {
   "cell_type": "code",
   "execution_count": 3,
   "metadata": {},
   "outputs": [
    {
     "data": {
      "text/html": [
       "<div>\n",
       "<style scoped>\n",
       "    .dataframe tbody tr th:only-of-type {\n",
       "        vertical-align: middle;\n",
       "    }\n",
       "\n",
       "    .dataframe tbody tr th {\n",
       "        vertical-align: top;\n",
       "    }\n",
       "\n",
       "    .dataframe thead th {\n",
       "        text-align: right;\n",
       "    }\n",
       "</style>\n",
       "<table border=\"1\" class=\"dataframe\">\n",
       "  <thead>\n",
       "    <tr style=\"text-align: right;\">\n",
       "      <th></th>\n",
       "      <th>x</th>\n",
       "      <th>y</th>\n",
       "    </tr>\n",
       "  </thead>\n",
       "  <tbody>\n",
       "    <tr>\n",
       "      <th>0</th>\n",
       "      <td>0.0</td>\n",
       "      <td>-1.711433</td>\n",
       "    </tr>\n",
       "    <tr>\n",
       "      <th>1</th>\n",
       "      <td>1.0</td>\n",
       "      <td>1.369431</td>\n",
       "    </tr>\n",
       "    <tr>\n",
       "      <th>2</th>\n",
       "      <td>2.0</td>\n",
       "      <td>4.303299</td>\n",
       "    </tr>\n",
       "    <tr>\n",
       "      <th>3</th>\n",
       "      <td>3.0</td>\n",
       "      <td>6.890376</td>\n",
       "    </tr>\n",
       "    <tr>\n",
       "      <th>4</th>\n",
       "      <td>4.0</td>\n",
       "      <td>10.038289</td>\n",
       "    </tr>\n",
       "    <tr>\n",
       "      <th>5</th>\n",
       "      <td>5.0</td>\n",
       "      <td>13.244760</td>\n",
       "    </tr>\n",
       "    <tr>\n",
       "      <th>6</th>\n",
       "      <td>6.0</td>\n",
       "      <td>15.873956</td>\n",
       "    </tr>\n",
       "    <tr>\n",
       "      <th>7</th>\n",
       "      <td>7.0</td>\n",
       "      <td>19.575683</td>\n",
       "    </tr>\n",
       "    <tr>\n",
       "      <th>8</th>\n",
       "      <td>8.0</td>\n",
       "      <td>22.277090</td>\n",
       "    </tr>\n",
       "    <tr>\n",
       "      <th>9</th>\n",
       "      <td>9.0</td>\n",
       "      <td>24.851776</td>\n",
       "    </tr>\n",
       "    <tr>\n",
       "      <th>10</th>\n",
       "      <td>10.0</td>\n",
       "      <td>27.468008</td>\n",
       "    </tr>\n",
       "  </tbody>\n",
       "</table>\n",
       "</div>"
      ],
      "text/plain": [
       "       x          y\n",
       "0    0.0  -1.711433\n",
       "1    1.0   1.369431\n",
       "2    2.0   4.303299\n",
       "3    3.0   6.890376\n",
       "4    4.0  10.038289\n",
       "5    5.0  13.244760\n",
       "6    6.0  15.873956\n",
       "7    7.0  19.575683\n",
       "8    8.0  22.277090\n",
       "9    9.0  24.851776\n",
       "10  10.0  27.468008"
      ]
     },
     "execution_count": 3,
     "metadata": {},
     "output_type": "execute_result"
    }
   ],
   "source": [
    "df = pd.read_csv('Messdaten.csv')\n",
    "df"
   ]
  },
  {
   "cell_type": "code",
   "execution_count": 4,
   "metadata": {},
   "outputs": [
    {
     "data": {
      "image/png": "[encoded data removed]",
      "text/plain": [
       "<Figure size 432x288 with 1 Axes>"
      ]
     },
     "metadata": {
      "image/png": {
       "height": 261,
       "width": 382
      },
      "needs_background": "light"
     },
     "output_type": "display_data"
    }
   ],
   "source": [
    "ax = df.plot(kind='scatter', x='x', y='y', label='Messdaten')"
   ]
  },
  {
   "cell_type": "markdown",
   "metadata": {},
   "source": [
    "Man erkennt, dass die Punkte nicht exakt auf einer Geraden liegen, die Abweichung aber nicht sehr groß ist."
   ]
  },
  {
   "cell_type": "markdown",
   "metadata": {},
   "source": [
    "Zur Berechnung der Regressionsgraden \n",
    "\n",
    "$$\n",
    "  y = a\\,x + b\n",
    "$$\n",
    "\n",
    "werden zwei Parameter $a$ und $b$ benötigt. Diese sollen so ermittelt werden, dass der Messfehler insgesamt minimal wird. Für jeden einzelnen Punkt $(x_i,y_i)$ ist der Messfehler\n",
    "\n",
    "$$\n",
    "  \\text{fehler}_i = a\\,x_i + b - y_i \n",
    "$$ "
   ]
  },
  {
   "cell_type": "code",
   "execution_count": 5,
   "metadata": {},
   "outputs": [
    {
     "data": {
      "text/html": [
       "<div>\n",
       "<style scoped>\n",
       "    .dataframe tbody tr th:only-of-type {\n",
       "        vertical-align: middle;\n",
       "    }\n",
       "\n",
       "    .dataframe tbody tr th {\n",
       "        vertical-align: top;\n",
       "    }\n",
       "\n",
       "    .dataframe thead th {\n",
       "        text-align: right;\n",
       "    }\n",
       "</style>\n",
       "<table border=\"1\" class=\"dataframe\">\n",
       "  <thead>\n",
       "    <tr style=\"text-align: right;\">\n",
       "      <th></th>\n",
       "      <th>x</th>\n",
       "      <th>y</th>\n",
       "      <th>fehler</th>\n",
       "    </tr>\n",
       "  </thead>\n",
       "  <tbody>\n",
       "    <tr>\n",
       "      <th>0</th>\n",
       "      <td>0.0</td>\n",
       "      <td>-1.711433</td>\n",
       "      <td>b + 1.71143320504007</td>\n",
       "    </tr>\n",
       "    <tr>\n",
       "      <th>1</th>\n",
       "      <td>1.0</td>\n",
       "      <td>1.369431</td>\n",
       "      <td>1.0*a + b - 1.36943071036309</td>\n",
       "    </tr>\n",
       "    <tr>\n",
       "      <th>2</th>\n",
       "      <td>2.0</td>\n",
       "      <td>4.303299</td>\n",
       "      <td>2.0*a + b - 4.30329932118402</td>\n",
       "    </tr>\n",
       "    <tr>\n",
       "      <th>3</th>\n",
       "      <td>3.0</td>\n",
       "      <td>6.890376</td>\n",
       "      <td>3.0*a + b - 6.89037592634188</td>\n",
       "    </tr>\n",
       "    <tr>\n",
       "      <th>4</th>\n",
       "      <td>4.0</td>\n",
       "      <td>10.038289</td>\n",
       "      <td>4.0*a + b - 10.0382886222649</td>\n",
       "    </tr>\n",
       "    <tr>\n",
       "      <th>5</th>\n",
       "      <td>5.0</td>\n",
       "      <td>13.244760</td>\n",
       "      <td>5.0*a + b - 13.2447598583153</td>\n",
       "    </tr>\n",
       "    <tr>\n",
       "      <th>6</th>\n",
       "      <td>6.0</td>\n",
       "      <td>15.873956</td>\n",
       "      <td>6.0*a + b - 15.8739556199908</td>\n",
       "    </tr>\n",
       "    <tr>\n",
       "      <th>7</th>\n",
       "      <td>7.0</td>\n",
       "      <td>19.575683</td>\n",
       "      <td>7.0*a + b - 19.5756833500603</td>\n",
       "    </tr>\n",
       "    <tr>\n",
       "      <th>8</th>\n",
       "      <td>8.0</td>\n",
       "      <td>22.277090</td>\n",
       "      <td>8.0*a + b - 22.2770896227496</td>\n",
       "    </tr>\n",
       "    <tr>\n",
       "      <th>9</th>\n",
       "      <td>9.0</td>\n",
       "      <td>24.851776</td>\n",
       "      <td>9.0*a + b - 24.8517762676865</td>\n",
       "    </tr>\n",
       "    <tr>\n",
       "      <th>10</th>\n",
       "      <td>10.0</td>\n",
       "      <td>27.468008</td>\n",
       "      <td>10.0*a + b - 27.468008228852</td>\n",
       "    </tr>\n",
       "  </tbody>\n",
       "</table>\n",
       "</div>"
      ],
      "text/plain": [
       "       x          y                        fehler\n",
       "0    0.0  -1.711433          b + 1.71143320504007\n",
       "1    1.0   1.369431  1.0*a + b - 1.36943071036309\n",
       "2    2.0   4.303299  2.0*a + b - 4.30329932118402\n",
       "3    3.0   6.890376  3.0*a + b - 6.89037592634188\n",
       "4    4.0  10.038289  4.0*a + b - 10.0382886222649\n",
       "5    5.0  13.244760  5.0*a + b - 13.2447598583153\n",
       "6    6.0  15.873956  6.0*a + b - 15.8739556199908\n",
       "7    7.0  19.575683  7.0*a + b - 19.5756833500603\n",
       "8    8.0  22.277090  8.0*a + b - 22.2770896227496\n",
       "9    9.0  24.851776  9.0*a + b - 24.8517762676865\n",
       "10  10.0  27.468008  10.0*a + b - 27.468008228852"
      ]
     },
     "execution_count": 5,
     "metadata": {},
     "output_type": "execute_result"
    }
   ],
   "source": [
    "a,b = symbols('a,b')\n",
    "\n",
    "df['fehler'] = a*df.x + b - df.y\n",
    "\n",
    "df"
   ]
  },
  {
   "cell_type": "markdown",
   "metadata": {},
   "source": [
    "Der Gesamtfehler ist durch die Fehlerquadratsumme gegeben. Dazu wird jeder einzelne Fehler quadriert. Die Ergebnisse werden aufaddiert.\n",
    "\n",
    "Nur dann, wenn es keinen einzigen Messfehler gibt, kann der Gesamtfehler 0 sein. Durch das Quadrieren sind Fehlerbeiträge in der Summe immer positiv. Dadurch vergrößern sie den Gesamtfehler."
   ]
  },
  {
   "cell_type": "markdown",
   "metadata": {},
   "source": [
    "Die Fehlerquadratsumme wird in mehreren Schritten berechnet, um den Rechenweg leichter nachvollziehbar zu machen."
   ]
  },
  {
   "cell_type": "code",
   "execution_count": 6,
   "metadata": {},
   "outputs": [
    {
     "data": {
      "text/plain": [
       "0             b + 1.71143320504007\n",
       "1     1.0*a + b - 1.36943071036309\n",
       "2     2.0*a + b - 4.30329932118402\n",
       "3     3.0*a + b - 6.89037592634188\n",
       "4     4.0*a + b - 10.0382886222649\n",
       "5     5.0*a + b - 13.2447598583153\n",
       "6     6.0*a + b - 15.8739556199908\n",
       "7     7.0*a + b - 19.5756833500603\n",
       "8     8.0*a + b - 22.2770896227496\n",
       "9     9.0*a + b - 24.8517762676865\n",
       "10    10.0*a + b - 27.468008228852\n",
       "Name: fehler, dtype: object"
      ]
     },
     "execution_count": 6,
     "metadata": {},
     "output_type": "execute_result"
    }
   ],
   "source": [
    "f_2 = df.fehler\n",
    "\n",
    "f_2"
   ]
  },
  {
   "cell_type": "code",
   "execution_count": 7,
   "metadata": {},
   "outputs": [
    {
     "data": {
      "text/plain": [
       "0             (b + 1.71143320504007)**2\n",
       "1     (1.0*a + b - 1.36943071036309)**2\n",
       "2     (2.0*a + b - 4.30329932118402)**2\n",
       "3     (3.0*a + b - 6.89037592634188)**2\n",
       "4     (4.0*a + b - 10.0382886222649)**2\n",
       "5     (5.0*a + b - 13.2447598583153)**2\n",
       "6     (6.0*a + b - 15.8739556199908)**2\n",
       "7     (7.0*a + b - 19.5756833500603)**2\n",
       "8     (8.0*a + b - 22.2770896227496)**2\n",
       "9     (9.0*a + b - 24.8517762676865)**2\n",
       "10    (10.0*a + b - 27.468008228852)**2\n",
       "Name: fehler, dtype: object"
      ]
     },
     "execution_count": 7,
     "metadata": {},
     "output_type": "execute_result"
    }
   ],
   "source": [
    "f_2 = df.fehler**2\n",
    "\n",
    "f_2"
   ]
  },
  {
   "cell_type": "code",
   "execution_count": 8,
   "metadata": {},
   "outputs": [
    {
     "data": {
      "image/png": "[encoded data removed]",
      "text/latex": [
       "$$\\left(b + 1.71143320504007\\right)^{2} + \\left(1.0 a + b - 1.36943071036309\\right)^{2} + \\left(2.0 a + b - 4.30329932118402\\right)^{2} + \\left(3.0 a + b - 6.89037592634188\\right)^{2} + \\left(4.0 a + b - 10.0382886222649\\right)^{2} + \\left(5.0 a + b - 13.2447598583153\\right)^{2} + \\left(6.0 a + b - 15.8739556199908\\right)^{2} + \\left(7.0 a + b - 19.5756833500603\\right)^{2} + \\left(8.0 a + b - 22.2770896227496\\right)^{2} + \\left(9.0 a + b - 24.8517762676865\\right)^{2} + \\left(10.0 a + b - 27.468008228852\\right)^{2}$$"
      ],
      "text/plain": [
       "                      2                                 2                     \n",
       "(b + 1.71143320504007)  + (1.0⋅a + b - 1.36943071036309)  + (2.0⋅a + b - 4.303\n",
       "\n",
       "            2                                 2                               \n",
       "29932118402)  + (3.0⋅a + b - 6.89037592634188)  + (4.0⋅a + b - 10.038288622264\n",
       "\n",
       "  2                                 2                                 2       \n",
       "9)  + (5.0⋅a + b - 13.2447598583153)  + (6.0⋅a + b - 15.8739556199908)  + (7.0\n",
       "\n",
       "                          2                                 2                 \n",
       "⋅a + b - 19.5756833500603)  + (8.0⋅a + b - 22.2770896227496)  + (9.0⋅a + b - 2\n",
       "\n",
       "                2                                 2\n",
       "4.8517762676865)  + (10.0⋅a + b - 27.468008228852) "
      ]
     },
     "execution_count": 8,
     "metadata": {},
     "output_type": "execute_result"
    }
   ],
   "source": [
    "f_2 = (df.fehler**2).sum()\n",
    "\n",
    "f_2"
   ]
  },
  {
   "cell_type": "code",
   "execution_count": 9,
   "metadata": {},
   "outputs": [
    {
     "data": {
      "image/png": "[encoded data removed]",
      "text/latex": [
       "$$385.0 a^{2} + 110.0 a b - 2091.72082752491 a + 11 b^{2} - 288.362468645537 b + 2850.55173913486$$"
      ],
      "text/plain": [
       "       2                                        2                             \n",
       "385.0⋅a  + 110.0⋅a⋅b - 2091.72082752491⋅a + 11⋅b  - 288.362468645537⋅b + 2850.\n",
       "\n",
       "           \n",
       "55173913486"
      ]
     },
     "execution_count": 9,
     "metadata": {},
     "output_type": "execute_result"
    }
   ],
   "source": [
    "f_2 = (df.fehler**2).sum().expand()\n",
    "\n",
    "f_2"
   ]
  },
  {
   "cell_type": "markdown",
   "metadata": {},
   "source": [
    "Die Fehlerquadratsumme ist ein Ausdruck, in dem sowohl $a^2$ und $a$, als auch $b^2$ und $b$ auftreten. Die Koeffizienten $a$ und $b$ sollen so gewählt werden, dass die Fehlerquadratsumme so klein wie möglich ist.\n",
    "\n",
    "Stellen wir uns vor, dass $b$ bekannt ist. Dann bleibt nur noch ein quadratischer Ausdruck von $a$ übrig. Dieser nimmt seinen kleinsten Wert aber im Scheitelpunkt an! Es muss also $a$ als Scheitelpunkt der Fehlerquadratsumme als Funktion von $a$ gewählt werden.\n",
    "\n",
    "Das führt auf eine Gleichung\n",
    "\n",
    "$$\n",
    "  a = \\text{Scheitelpunkt der Fehlerquadratsumme als Funktion von $a$}\n",
    "$$\n",
    "\n",
    "Stellen wir uns nun vor, $a$ sei schon bekannt. Dann bleibt nur noch eine quadratische Funktion von $b$ übrig. Die gleiche Überlegung wie oben führt auf die zweite Gleichung\n",
    "\n",
    "$$\n",
    "  b = \\text{Scheitelpunkt der Fehlerquadratsumme als Funktion von $b$}\n",
    "$$\n",
    "\n",
    "Diese beiden Gleichungen lassen sich mit `sympy` leicht aufstellen:"
   ]
  },
  {
   "cell_type": "code",
   "execution_count": 10,
   "metadata": {},
   "outputs": [
    {
     "data": {
      "image/png": "[encoded data removed]",
      "text/latex": [
       "$$a = - 0.142857142857143 b + 2.71652055522716$$"
      ],
      "text/plain": [
       "a = -0.142857142857143⋅b + 2.71652055522716"
      ]
     },
     "metadata": {},
     "output_type": "display_data"
    },
    {
     "data": {
      "image/png": "[encoded data removed]",
      "text/latex": [
       "$$b = - 5.0 a + 13.1073849384335$$"
      ],
      "text/plain": [
       "b = -5.0⋅a + 13.1073849384335"
      ]
     },
     "metadata": {},
     "output_type": "display_data"
    }
   ],
   "source": [
    "lgs = [\n",
    "    Eq(a,-f_2.coeff(a,1)/(2*f_2.coeff(a,2))),\n",
    "    Eq(b,-f_2.coeff(b,1)/(2*f_2.coeff(b,2)))\n",
    "]\n",
    "\n",
    "for glg in lgs:\n",
    "    display(glg)"
   ]
  },
  {
   "cell_type": "code",
   "execution_count": 11,
   "metadata": {},
   "outputs": [
    {
     "data": {
      "image/png": "[encoded data removed]",
      "text/latex": [
       "$$\\left \\{ a : 2.95412947407831, \\quad b : -1.66326243195805\\right \\}$$"
      ],
      "text/plain": [
       "{a: 2.95412947407831, b: -1.66326243195805}"
      ]
     },
     "execution_count": 11,
     "metadata": {},
     "output_type": "execute_result"
    }
   ],
   "source": [
    "lsg = solve(lgs)\n",
    "lsg"
   ]
  },
  {
   "cell_type": "code",
   "execution_count": 12,
   "metadata": {},
   "outputs": [
    {
     "data": {
      "image/png": "[encoded data removed]",
      "text/latex": [
       "$$0.755895509859087$$"
      ],
      "text/plain": [
       "0.755895509859087"
      ]
     },
     "execution_count": 12,
     "metadata": {},
     "output_type": "execute_result"
    }
   ],
   "source": [
    "err = f_2.subs(lsg)\n",
    "err"
   ]
  },
  {
   "cell_type": "markdown",
   "metadata": {},
   "source": [
    "Der durchschnittliche quadratische Fehler ergibt sich, wenn die Fehlervariable `err` durch die Anzahl der Messwerte dividiert wird. Diese Anzahl entspricht der Länge von `df`"
   ]
  },
  {
   "cell_type": "code",
   "execution_count": 13,
   "metadata": {},
   "outputs": [
    {
     "data": {
      "image/png": "[encoded data removed]",
      "text/latex": [
       "$$0.0687177736235534$$"
      ],
      "text/plain": [
       "0.0687177736235534"
      ]
     },
     "execution_count": 13,
     "metadata": {},
     "output_type": "execute_result"
    }
   ],
   "source": [
    "err_m = err/len(df)\n",
    "err_m"
   ]
  },
  {
   "cell_type": "markdown",
   "metadata": {},
   "source": [
    "Um den Fehler noch genauer abschätzen zu können, wird der relative quadratische Fehler berechnet. Dieser ergibt sich aus dem Verhältnis des mittleren Fehlers zum maximalen `y`-Wert:"
   ]
  },
  {
   "cell_type": "code",
   "execution_count": 14,
   "metadata": {},
   "outputs": [
    {
     "data": {
      "image/png": "[encoded data removed]",
      "text/latex": [
       "$$0.00250173849705539$$"
      ],
      "text/plain": [
       "0.00250173849705539"
      ]
     },
     "execution_count": 14,
     "metadata": {},
     "output_type": "execute_result"
    }
   ],
   "source": [
    "err_rel = err_m/max(df.y.abs())\n",
    "err_rel"
   ]
  },
  {
   "cell_type": "markdown",
   "metadata": {},
   "source": [
    "Mit etwa 2.5 Promille ist der relative Fehler sehr klein. "
   ]
  },
  {
   "cell_type": "code",
   "execution_count": 15,
   "metadata": {},
   "outputs": [
    {
     "data": {
      "text/html": [
       "<div>\n",
       "<style scoped>\n",
       "    .dataframe tbody tr th:only-of-type {\n",
       "        vertical-align: middle;\n",
       "    }\n",
       "\n",
       "    .dataframe tbody tr th {\n",
       "        vertical-align: top;\n",
       "    }\n",
       "\n",
       "    .dataframe thead th {\n",
       "        text-align: right;\n",
       "    }\n",
       "</style>\n",
       "<table border=\"1\" class=\"dataframe\">\n",
       "  <thead>\n",
       "    <tr style=\"text-align: right;\">\n",
       "      <th></th>\n",
       "      <th>x</th>\n",
       "      <th>y</th>\n",
       "      <th>regr</th>\n",
       "    </tr>\n",
       "  </thead>\n",
       "  <tbody>\n",
       "    <tr>\n",
       "      <th>0</th>\n",
       "      <td>0.0</td>\n",
       "      <td>-1.711433</td>\n",
       "      <td>-1.663262</td>\n",
       "    </tr>\n",
       "    <tr>\n",
       "      <th>1</th>\n",
       "      <td>1.0</td>\n",
       "      <td>1.369431</td>\n",
       "      <td>1.290867</td>\n",
       "    </tr>\n",
       "    <tr>\n",
       "      <th>2</th>\n",
       "      <td>2.0</td>\n",
       "      <td>4.303299</td>\n",
       "      <td>4.244997</td>\n",
       "    </tr>\n",
       "    <tr>\n",
       "      <th>3</th>\n",
       "      <td>3.0</td>\n",
       "      <td>6.890376</td>\n",
       "      <td>7.199126</td>\n",
       "    </tr>\n",
       "    <tr>\n",
       "      <th>4</th>\n",
       "      <td>4.0</td>\n",
       "      <td>10.038289</td>\n",
       "      <td>10.153255</td>\n",
       "    </tr>\n",
       "    <tr>\n",
       "      <th>5</th>\n",
       "      <td>5.0</td>\n",
       "      <td>13.244760</td>\n",
       "      <td>13.107385</td>\n",
       "    </tr>\n",
       "    <tr>\n",
       "      <th>6</th>\n",
       "      <td>6.0</td>\n",
       "      <td>15.873956</td>\n",
       "      <td>16.061514</td>\n",
       "    </tr>\n",
       "    <tr>\n",
       "      <th>7</th>\n",
       "      <td>7.0</td>\n",
       "      <td>19.575683</td>\n",
       "      <td>19.015644</td>\n",
       "    </tr>\n",
       "    <tr>\n",
       "      <th>8</th>\n",
       "      <td>8.0</td>\n",
       "      <td>22.277090</td>\n",
       "      <td>21.969773</td>\n",
       "    </tr>\n",
       "    <tr>\n",
       "      <th>9</th>\n",
       "      <td>9.0</td>\n",
       "      <td>24.851776</td>\n",
       "      <td>24.923903</td>\n",
       "    </tr>\n",
       "    <tr>\n",
       "      <th>10</th>\n",
       "      <td>10.0</td>\n",
       "      <td>27.468008</td>\n",
       "      <td>27.878032</td>\n",
       "    </tr>\n",
       "  </tbody>\n",
       "</table>\n",
       "</div>"
      ],
      "text/plain": [
       "       x          y       regr\n",
       "0    0.0  -1.711433  -1.663262\n",
       "1    1.0   1.369431   1.290867\n",
       "2    2.0   4.303299   4.244997\n",
       "3    3.0   6.890376   7.199126\n",
       "4    4.0  10.038289  10.153255\n",
       "5    5.0  13.244760  13.107385\n",
       "6    6.0  15.873956  16.061514\n",
       "7    7.0  19.575683  19.015644\n",
       "8    8.0  22.277090  21.969773\n",
       "9    9.0  24.851776  24.923903\n",
       "10  10.0  27.468008  27.878032"
      ]
     },
     "execution_count": 15,
     "metadata": {},
     "output_type": "execute_result"
    }
   ],
   "source": [
    "x = Symbol('x')\n",
    "f = lambdify(x, (a*x+b).subs(lsg))\n",
    "\n",
    "df_regr = pd.DataFrame(\n",
    "    {\n",
    "        'x': df.x,\n",
    "        'y': df.y,\n",
    "        'regr': f(df.x)\n",
    "    }\n",
    ")\n",
    "\n",
    "df_regr"
   ]
  },
  {
   "cell_type": "code",
   "execution_count": 16,
   "metadata": {},
   "outputs": [
    {
     "data": {
      "image/png": "[encoded data removed]",
      "text/plain": [
       "<Figure size 432x288 with 1 Axes>"
      ]
     },
     "metadata": {
      "image/png": {
       "height": 261,
       "width": 388
      },
      "needs_background": "light"
     },
     "output_type": "display_data"
    }
   ],
   "source": [
    "ax = df_regr.plot(x='x',y='regr', label='Regressionsgrade')\n",
    "ax.scatter(df.x,df.y,label='Messpunkte',clip_on=False)\n",
    "ax.plot(df.x, a_0*df.x+b_0,c='r',ls='dotted',label='Original')\n",
    "ax.grid()\n",
    "\n",
    "ax.axhline(0,c='k')\n",
    "ax.axvline(0,c='k',clip_on=False)\n",
    "ax.set(xlabel='x',ylabel='y')\n",
    "ax.legend()\n",
    "plt.show()"
   ]
  },
  {
   "cell_type": "markdown",
   "metadata": {},
   "source": [
    "In der Praxis wird dieses Gleichungssystem nicht von Hand aufgestellt und gelöst. Dazu gibt es Programme, die dabei Unterstützung leisten. Ein solches Modul ist `scipy.optimize`. Dieser Modul enthält eine Funktion `curve_fit`, die Zur Kurvenanpassung benutzt werden kann. Dabei ist nicht nur die lineare Kurvenanpassung (also die Anpassung an eine lineare Funktion) möglich."
   ]
  },
  {
   "cell_type": "code",
   "execution_count": 17,
   "metadata": {},
   "outputs": [],
   "source": [
    "from scipy.optimize import curve_fit"
   ]
  },
  {
   "cell_type": "markdown",
   "metadata": {},
   "source": [
    "Die Funktion `curve_fit` benötigt eine Information darüber, wie die Kurve aussehen soll, die angepasst werden soll. Für die lineare Regression ist das die folgende Funktion:"
   ]
  },
  {
   "cell_type": "code",
   "execution_count": 18,
   "metadata": {},
   "outputs": [],
   "source": [
    "def func(x, a,b):\n",
    "    return a*x+b"
   ]
  },
  {
   "cell_type": "markdown",
   "metadata": {},
   "source": [
    "Die Funktion `curv_fit()` gibt Schätzwerte für die Parameter `a` und `b` zurück. Daneben wird die sogenannte Kovariansmatrix `cov_opt` für den optimalen Punkt zurückgegeben. Diese ermöglicht zum Beispiel zu überprüfen, ob die Lösung gut durch eine Geradengleichung dargestellt werden kann. Für unsere Aufgabenstellung ist das gegeben, so dass wir die Kovarianzmatrix nicht benötigen."
   ]
  },
  {
   "cell_type": "code",
   "execution_count": 19,
   "metadata": {},
   "outputs": [
    {
     "data": {
      "text/plain": [
       "array([ 2.95412947, -1.66326243])"
      ]
     },
     "execution_count": 19,
     "metadata": {},
     "output_type": "execute_result"
    }
   ],
   "source": [
    "p_opt, cov_opt = curve_fit(func, df.x, df.y)\n",
    "p_opt"
   ]
  },
  {
   "cell_type": "code",
   "execution_count": 20,
   "metadata": {},
   "outputs": [
    {
     "data": {
      "text/plain": [
       "array([[ 0.00076353, -0.00381765],\n",
       "       [-0.00381765,  0.02672358]])"
      ]
     },
     "execution_count": 20,
     "metadata": {},
     "output_type": "execute_result"
    }
   ],
   "source": [
    "cov_opt"
   ]
  },
  {
   "cell_type": "markdown",
   "metadata": {},
   "source": [
    "Die Werte `a` und `b` werden aus dem Ergebnis `p_opt` herausgelesen:"
   ]
  },
  {
   "cell_type": "code",
   "execution_count": 21,
   "metadata": {},
   "outputs": [
    {
     "data": {
      "image/png": "[encoded data removed]",
      "text/latex": [
       "$$\\left ( 2.9541294740825674, \\quad -1.6632624319638438\\right )$$"
      ],
      "text/plain": [
       "(2.9541294740825674, -1.6632624319638438)"
      ]
     },
     "execution_count": 21,
     "metadata": {},
     "output_type": "execute_result"
    }
   ],
   "source": [
    "a,b = p_opt\n",
    "a,b"
   ]
  },
  {
   "cell_type": "markdown",
   "metadata": {},
   "source": [
    "Der Vergleich mit der Lösung des linearen Gleichungssystems zeigt, dass diese praktisch übereinstimmen. Abweichungen treten in diesem Beispiel erst nach der 10-ten Nachkommastelle auf."
   ]
  },
  {
   "cell_type": "code",
   "execution_count": 22,
   "metadata": {},
   "outputs": [
    {
     "data": {
      "image/png": "[encoded data removed]",
      "text/latex": [
       "$$\\left \\{ a : 2.95412947407831, \\quad b : -1.66326243195805\\right \\}$$"
      ],
      "text/plain": [
       "{a: 2.95412947407831, b: -1.66326243195805}"
      ]
     },
     "execution_count": 22,
     "metadata": {},
     "output_type": "execute_result"
    }
   ],
   "source": [
    "lsg"
   ]
  }
 ],
 "metadata": {
  "kernelspec": {
   "display_name": "Python 3",
   "language": "python",
   "name": "python3"
  },
  "language_info": {
   "codemirror_mode": {
    "name": "ipython",
    "version": 3
   },
   "file_extension": ".py",
   "mimetype": "text/x-python",
   "name": "python",
   "nbconvert_exporter": "python",
   "pygments_lexer": "ipython3",
   "version": "3.7.2"
  }
 },
 "nbformat": 4,
 "nbformat_minor": 2
}
