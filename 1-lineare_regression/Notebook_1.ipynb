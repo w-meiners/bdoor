{
 "cells": [
  {
   "cell_type": "markdown",
   "metadata": {},
   "source": [
    "In diesem Notebook sollen Sie lernen, lineare Funktionen mit `sympy` und `fun_expr` aufzustellen und diese in einem vorgegebenen Intervall zu plotten."
   ]
  },
  {
   "cell_type": "markdown",
   "metadata": {},
   "source": [
    "# Beispiel 1\n",
    "\n",
    "Erzeugen Sie die lineare Funktion\n",
    "\n",
    "$$\n",
    "  f(x) = 2.5\\,x - 4\n",
    "$$\n",
    "\n",
    "und plotten Sie diese im Intervall $-5 \\le x \\le 5$."
   ]
  },
  {
   "cell_type": "markdown",
   "metadata": {},
   "source": [
    "## Lösung"
   ]
  },
  {
   "cell_type": "markdown",
   "metadata": {},
   "source": [
    "Die benötigten Module laden"
   ]
  },
  {
   "cell_type": "code",
   "execution_count": null,
   "metadata": {},
   "outputs": [],
   "source": [
    "from sympy import *\n",
    "init_printing()\n",
    "\n",
    "from matplotlib import pyplot as plt\n",
    "%matplotlib inline\n",
    "%config InlineBackend.figure_format='retina' # nur MacBook Pro\n",
    "\n",
    "import numpy as np\n",
    "\n",
    "from fun_expr import Function_from_Expression as FE"
   ]
  },
  {
   "cell_type": "markdown",
   "metadata": {},
   "source": [
    "Die Funktion $f$ erzeugen:"
   ]
  },
  {
   "cell_type": "code",
   "execution_count": null,
   "metadata": {},
   "outputs": [],
   "source": [
    "x = Symbol('x')\n",
    "\n",
    "f = FE(x, 2.5*x-4, name='f')\n",
    "f.equation()"
   ]
  },
  {
   "cell_type": "markdown",
   "metadata": {},
   "source": [
    "Die Funktion plotten"
   ]
  },
  {
   "cell_type": "code",
   "execution_count": null,
   "metadata": {},
   "outputs": [],
   "source": [
    "fig, ax = plt.subplots()\n",
    "\n",
    "lx = np.linspace(-5,5)\n",
    "ax.plot(lx,f.lambdified(lx),label='$y=f(x)$')\n",
    "\n",
    "ax.legend(loc='best')\n",
    "ax.grid()"
   ]
  },
  {
   "cell_type": "markdown",
   "metadata": {},
   "source": [
    "# Aufgabe 1\n",
    "\n",
    "Plotten Sie die Funktion \n",
    "\n",
    "$$\n",
    "  f(x) = -3\\,x + 5\n",
    "$$\n",
    "\n",
    "für $-3\\le x \\le 10$"
   ]
  },
  {
   "cell_type": "markdown",
   "metadata": {},
   "source": [
    "## Lösung"
   ]
  },
  {
   "cell_type": "code",
   "execution_count": null,
   "metadata": {},
   "outputs": [],
   "source": [
    "# Ihre Lösung beginnt hier"
   ]
  },
  {
   "cell_type": "markdown",
   "metadata": {},
   "source": [
    "# Beispiel 2\n",
    "\n",
    "Eine lineare Funktion $f$ verläuft durch die Punkte $P(-3|5)$ und $Q(7|2)$. \n",
    "\n",
    "- Ermitteln Sie die Funktionsgleichung von $f$\n",
    "- Plotten Sie den Graphen $y=f(x)$ für $-5\\le x\\le 5$."
   ]
  },
  {
   "cell_type": "code",
   "execution_count": null,
   "metadata": {},
   "outputs": [],
   "source": [
    "x = Symbol('x')\n",
    "\n",
    "a,b = symbols('a,b')\n",
    "\n",
    "f = FE(x, a*x+b, name='f')\n",
    "f.equation()"
   ]
  },
  {
   "cell_type": "code",
   "execution_count": null,
   "metadata": {},
   "outputs": [],
   "source": [
    "glgn = [\n",
    "    Eq(f(-3),5),\n",
    "    Eq(f(7),2)\n",
    "]\n",
    "\n",
    "for glg in glgn:\n",
    "    display(glg)"
   ]
  },
  {
   "cell_type": "code",
   "execution_count": null,
   "metadata": {},
   "outputs": [],
   "source": [
    "lsg = solve(glgn)\n",
    "lsg"
   ]
  },
  {
   "cell_type": "code",
   "execution_count": null,
   "metadata": {},
   "outputs": [],
   "source": [
    "f = f.subs(lsg)\n",
    "f.equation()"
   ]
  },
  {
   "cell_type": "code",
   "execution_count": null,
   "metadata": {},
   "outputs": [],
   "source": [
    "fig,ax = plt.subplots()\n",
    "lx = np.linspace(-5,5)\n",
    "ax.plot(lx,f.lambdified(lx))\n",
    "ax.set(xlim=(-5,5),ylim=(0,6))\n",
    "ax.grid()"
   ]
  },
  {
   "cell_type": "markdown",
   "metadata": {},
   "source": [
    "# Aufgabe 2\n",
    "\n",
    "Eine lineare Funktion $f$ verläuft durch die Punkte $R(5|-7)$ und $S(-3|8)$.\n",
    "\n",
    "- Ermitteln Sie die Funktionsgleichung von $f$.\n",
    "- Plotten Sie $y=f(x)$ in einem sinnvollen Intervall."
   ]
  },
  {
   "cell_type": "markdown",
   "metadata": {},
   "source": [
    "## Lösung"
   ]
  },
  {
   "cell_type": "code",
   "execution_count": null,
   "metadata": {},
   "outputs": [],
   "source": [
    "# Ihre Lösung beginnt hier"
   ]
  }
 ],
 "metadata": {
  "kernelspec": {
   "display_name": "python 3.6",
   "language": "python",
   "name": "python36"
  },
  "language_info": {
   "codemirror_mode": {
    "name": "ipython",
    "version": 3
   },
   "file_extension": ".py",
   "mimetype": "text/x-python",
   "name": "python",
   "nbconvert_exporter": "python",
   "pygments_lexer": "ipython3",
   "version": "3.6.8"
  }
 },
 "nbformat": 4,
 "nbformat_minor": 2
}
