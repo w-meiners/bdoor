{
 "cells": [
  {
   "cell_type": "markdown",
   "metadata": {},
   "source": [
    "# Lineare Funktionen"
   ]
  },
  {
   "cell_type": "markdown",
   "metadata": {},
   "source": [
    "Eine lineare Funktion ist durch\n",
    "\n",
    "$$\n",
    "  f(x) = a\\,x + b\n",
    "$$\n",
    "\n",
    "gegeben, wobei $a$ und $b$ zwei beliebige reelle Zahlen (Dezimalzahlen) sind. Es ist sinnvoll, dass $a\\ne 0$ ist, sonst würde die Funktion eine Konstante sein. Manchmal wird dies auch als Grenzfall einer linearen Funktion angesehen.\n",
    "\n",
    "Man bezeichnet $a$ als die Steigung der Funktion und $b$ als den $y$-Achsenabschnitt (oder, wenn keine Verwechslung zu befürchten ist, einfacher als Achsenabschnitt)."
   ]
  },
  {
   "cell_type": "markdown",
   "metadata": {},
   "source": [
    "Um mit linearen Funktionen zu arbeiten, können unter anderem die Module `numpy` (numerical Python) und  `sympy` (symbolic Python) verwendet werden. Um das Rechne mit Tabelle zu vereinfachen, wird häufig `pandas` genutzt.\n",
    "\n",
    "Diagramme können sehr flexibel mit `matplotlib` gezeichnet werden.\n",
    "\n",
    "Es ist übich, diese Module in Notebooks folgendermaßen zu importieren:\n",
    "\n",
    "```\n",
    "from sympy import *\n",
    "init_printing()\n",
    "\n",
    "import matplotlib.pyplot as plt\n",
    "%matplotlib inline\n",
    "\n",
    "import numpy as np\n",
    "import pandas as pd\n",
    "```"
   ]
  },
  {
   "cell_type": "markdown",
   "metadata": {},
   "source": [
    "### Beispiel:\n",
    "\n",
    "Als Beispiel soll die lineare Funktion\n",
    "\n",
    "$$\n",
    "  f(x) = 2\\,x -4\n",
    "$$\n",
    "\n",
    "untersucht werden. Für diese Funktion ist die Steigung\n",
    "\n",
    "$$\n",
    "  a=2\n",
    "$$\n",
    "\n",
    "und der $y$-Achsenabschnitt\n",
    "\n",
    "$$\n",
    "  b=-4.\n",
    "$$\n",
    "\n",
    "Wird für $x$ eine beliebige Zahl eingesetzt, so ergibt sich der zugehörige Funktionswert $y=f(x)$, z.B. ist für $x=3$:\n",
    "\n",
    "\\begin{align}\n",
    "      f(x) &= 2\\cdot x - 4 \\\\\n",
    "  x = 3\\implies y = f(3) &= 2\\cdot 3 - 4 = 2\n",
    "\\end{align}"
   ]
  },
  {
   "cell_type": "markdown",
   "metadata": {},
   "source": [
    "Soll das Schaubild $y=f(x)$ gezeichnet werden, so wird eine Wertetabelle benötigt. Dazu wird für eine genügend große Zahl von $x$-Werten der zugehörige $y$-Wert berechnet und in der Wertetabelle dargestellt.\n",
    "\n",
    "Mit Jupyter-Notebooks wird dazu am einfachsten ein `pandas.DataFrame` benutzt."
   ]
  },
  {
   "cell_type": "markdown",
   "metadata": {},
   "source": [
    "### Lösung\n",
    "\n",
    "Zunächst werden die benötigten Module importiert."
   ]
  },
  {
   "cell_type": "code",
   "execution_count": 20,
   "metadata": {},
   "outputs": [],
   "source": [
    "import pandas as pd\n",
    "import numpy as np\n",
    "\n",
    "import matplotlib.pyplot as plt\n",
    "%matplotlib inline\n",
    "%config InlineBackend.figure_format='retina'"
   ]
  },
  {
   "cell_type": "markdown",
   "metadata": {},
   "source": [
    "Um den `pd.DataFrame` aufzubauen, wird ein Intervall auf der x-Achse benötigt. Dies wird mit `lx` bezeichnet.\n",
    "\n",
    "Mit Hilfe von `lx` wird dann der `pd.DataFrame` aufgebaut. Er besteht aus zwei Spalten, den `x`-Werten, und den `y`-Werten. Die `y`-Werte werden dabei aus der Formel $y=a\\,x+b$ berechnet. \n",
    "\n",
    "Beachten Sie, dass mit dem Intervall `lx` gerechnet werden kann!"
   ]
  },
  {
   "cell_type": "code",
   "execution_count": 21,
   "metadata": {},
   "outputs": [
    {
     "data": {
      "text/html": [
       "<div>\n",
       "<style scoped>\n",
       "    .dataframe tbody tr th:only-of-type {\n",
       "        vertical-align: middle;\n",
       "    }\n",
       "\n",
       "    .dataframe tbody tr th {\n",
       "        vertical-align: top;\n",
       "    }\n",
       "\n",
       "    .dataframe thead th {\n",
       "        text-align: right;\n",
       "    }\n",
       "</style>\n",
       "<table border=\"1\" class=\"dataframe\">\n",
       "  <thead>\n",
       "    <tr style=\"text-align: right;\">\n",
       "      <th></th>\n",
       "      <th>x</th>\n",
       "      <th>y</th>\n",
       "    </tr>\n",
       "  </thead>\n",
       "  <tbody>\n",
       "    <tr>\n",
       "      <th>0</th>\n",
       "      <td>0.0</td>\n",
       "      <td>-4.0</td>\n",
       "    </tr>\n",
       "    <tr>\n",
       "      <th>1</th>\n",
       "      <td>1.0</td>\n",
       "      <td>-2.0</td>\n",
       "    </tr>\n",
       "    <tr>\n",
       "      <th>2</th>\n",
       "      <td>2.0</td>\n",
       "      <td>0.0</td>\n",
       "    </tr>\n",
       "    <tr>\n",
       "      <th>3</th>\n",
       "      <td>3.0</td>\n",
       "      <td>2.0</td>\n",
       "    </tr>\n",
       "    <tr>\n",
       "      <th>4</th>\n",
       "      <td>4.0</td>\n",
       "      <td>4.0</td>\n",
       "    </tr>\n",
       "    <tr>\n",
       "      <th>5</th>\n",
       "      <td>5.0</td>\n",
       "      <td>6.0</td>\n",
       "    </tr>\n",
       "    <tr>\n",
       "      <th>6</th>\n",
       "      <td>6.0</td>\n",
       "      <td>8.0</td>\n",
       "    </tr>\n",
       "    <tr>\n",
       "      <th>7</th>\n",
       "      <td>7.0</td>\n",
       "      <td>10.0</td>\n",
       "    </tr>\n",
       "    <tr>\n",
       "      <th>8</th>\n",
       "      <td>8.0</td>\n",
       "      <td>12.0</td>\n",
       "    </tr>\n",
       "    <tr>\n",
       "      <th>9</th>\n",
       "      <td>9.0</td>\n",
       "      <td>14.0</td>\n",
       "    </tr>\n",
       "    <tr>\n",
       "      <th>10</th>\n",
       "      <td>10.0</td>\n",
       "      <td>16.0</td>\n",
       "    </tr>\n",
       "  </tbody>\n",
       "</table>\n",
       "</div>"
      ],
      "text/plain": [
       "       x     y\n",
       "0    0.0  -4.0\n",
       "1    1.0  -2.0\n",
       "2    2.0   0.0\n",
       "3    3.0   2.0\n",
       "4    4.0   4.0\n",
       "5    5.0   6.0\n",
       "6    6.0   8.0\n",
       "7    7.0  10.0\n",
       "8    8.0  12.0\n",
       "9    9.0  14.0\n",
       "10  10.0  16.0"
      ]
     },
     "execution_count": 21,
     "metadata": {},
     "output_type": "execute_result"
    }
   ],
   "source": [
    "# Die x-Werte\n",
    "lx = np.linspace(0,10,11)\n",
    "\n",
    "# Die Koeffizienten a und b:\n",
    "a = 2\n",
    "b = -4\n",
    "\n",
    "# Die Wertetabelle\n",
    "df = pd.DataFrame(\n",
    "    {\n",
    "        'x': lx,\n",
    "        'y': a*lx + b\n",
    "    }\n",
    ")\n",
    "\n",
    "df"
   ]
  },
  {
   "cell_type": "markdown",
   "metadata": {},
   "source": [
    "Das Ergebnis lässt sich leicht plotten:"
   ]
  },
  {
   "cell_type": "code",
   "execution_count": 22,
   "metadata": {},
   "outputs": [
    {
     "data": {
      "image/png": "[encoded data removed]",
      "text/plain": [
       "<Figure size 432x288 with 1 Axes>"
      ]
     },
     "metadata": {
      "image/png": {
       "height": 261,
       "width": 400
      },
      "needs_background": "light"
     },
     "output_type": "display_data"
    }
   ],
   "source": [
    "# Plotte den DataFrame\n",
    "# zurückgegeben wird die Zeichenfläche\n",
    "ax = df.plot(\n",
    "    x='x',y='y',\n",
    "    label='$y=2\\,x-4$',\n",
    "    grid=True\n",
    ")\n",
    "\n",
    "# Die Nulllinien hervorheben\n",
    "ax.axhline(0,c='k')\n",
    "ax.axvline(0,c='k',clip_on=False)\n",
    "\n",
    "ax.set(ylabel='y')\n",
    "\n",
    "plt.show()"
   ]
  },
  {
   "cell_type": "markdown",
   "metadata": {},
   "source": [
    "Hat man vergessen, `%matplotlib inline` anzugeben, so wird der Plot vermutlich nicht sichtbar sein. Dann kann dieser Aufruf jederzeit nachgeholt werde."
   ]
  },
  {
   "cell_type": "markdown",
   "metadata": {},
   "source": [
    "## Aufgabe 1\n",
    "\n",
    "Recherchieren Sie im Internet, wie der Befehl\n",
    "\n",
    "`np.linspace()`\n",
    "\n",
    "verwendet wird. Suchen Sie nach deutschen Erklärungen!\n",
    "\n",
    "1. Sie benötigen ein Intervall $0 \\le x \\le 20$, in dem Sie 50 $x$-Werte benötigen. Wie lautet der zugehörige Befehl?\n",
    "2. Welchen Abstand haben die Punkte im Intervall?"
   ]
  },
  {
   "cell_type": "markdown",
   "metadata": {},
   "source": [
    "### Antwort\n",
    "\n",
    "Ihre Lösung beginnt hier"
   ]
  },
  {
   "cell_type": "markdown",
   "metadata": {},
   "source": [
    "## Aufgabe 2\n",
    "\n",
    "Geben Sie von Hand das Ergebnis des Befehls\n",
    "\n",
    "`np.linspace(2,4,3)`\n",
    "\n",
    "an. Überprüfen Sie Ihr Ergebnis im Notebook"
   ]
  },
  {
   "cell_type": "markdown",
   "metadata": {},
   "source": [
    "### Anwort\n",
    "\n",
    "Ihre Lösung beginnt hier"
   ]
  },
  {
   "cell_type": "markdown",
   "metadata": {},
   "source": [
    "## Aufgabe 3\n",
    "\n",
    "Plotten Sie die Funktion $f(x) = -\\frac{3}{8}\\,x + 9$ für $-2\\le x \\le 2$. "
   ]
  },
  {
   "cell_type": "markdown",
   "metadata": {},
   "source": [
    "### Lösung"
   ]
  },
  {
   "cell_type": "code",
   "execution_count": 1,
   "metadata": {},
   "outputs": [],
   "source": [
    "# Ihre Lösung beginnt hier"
   ]
  },
  {
   "cell_type": "markdown",
   "metadata": {},
   "source": [
    "## Aufgabe 4\n",
    "\n",
    "Das Intervall $-3 \\le x \\le 5$ kann durch \n",
    "\n",
    "`lx = np.linspace(-3,5)`\n",
    "\n",
    "dargestellt werden. Beantworten Sie die folgenden Fragen:\n",
    "\n",
    "1. Wie viele Punkte hat `lx`?\n",
    "2. Was ist das Ergebnis von\n",
    "\n",
    "   `3*lx + 2`?\n",
    "   \n",
    "3. Sie benötigen exakt 20 Punkte. Wie lautet der zugehörige Befehl für `np.linspace()`?\n",
    "\n",
    "4. Sie benötigen exakt 20 Teilintervalle. Wie lautet der zugehörige Befehl für `np.linspace()`?"
   ]
  },
  {
   "cell_type": "markdown",
   "metadata": {},
   "source": [
    "### Antwort\n",
    "\n",
    "Ihre Lösung beginnt hier"
   ]
  },
  {
   "cell_type": "markdown",
   "metadata": {},
   "source": [
    "## Aufgabe 5\n",
    "\n",
    "Zeichnen Sie die Funktionen\n",
    "\n",
    "\\begin{align}\n",
    "  f(x) = 2\\,x - 5 \\\\\n",
    "  g(x) = -\\dfrac{1}{2}\\,x + 3\n",
    "\\end{align}\n",
    "\n",
    "für $0\\le x \\le 6$ und bestimmen Sie den Schnittpunkt dieser beiden Funktionen. "
   ]
  },
  {
   "cell_type": "code",
   "execution_count": 2,
   "metadata": {},
   "outputs": [],
   "source": [
    "# Ihre Lösung beginnt hier"
   ]
  }
 ],
 "metadata": {
  "kernelspec": {
   "display_name": "Python 3",
   "language": "python",
   "name": "python3"
  },
  "language_info": {
   "codemirror_mode": {
    "name": "ipython",
    "version": 3
   },
   "file_extension": ".py",
   "mimetype": "text/x-python",
   "name": "python",
   "nbconvert_exporter": "python",
   "pygments_lexer": "ipython3",
   "version": "3.7.2"
  }
 },
 "nbformat": 4,
 "nbformat_minor": 2
}
