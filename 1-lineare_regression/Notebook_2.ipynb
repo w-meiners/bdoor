{
 "cells": [
  {
   "cell_type": "markdown",
   "metadata": {},
   "source": [
    "# Quadratische Funktionen\n",
    "\n",
    "Eine quadratische Funktion ist zum Beispiel durch\n",
    "\n",
    "$$\n",
    "  f(x) = 2\\,x^2 -4\\,x + 8\n",
    "$$\n",
    "\n",
    "gegeben. Man sieht, dass neben den Ausdrücken $-4\\,x + 8$, die bereits von den linearen Funktionen bekannt sind, auch noch der Ausdruck $2\\,x^2$ auftritt. Die allgemeine Form der quadratischen Funktion lautet:\n",
    "\n",
    "$$\n",
    "  f(x) = a\\,x^2 + b\\,x + c\n",
    "$$\n",
    "\n",
    "mit drei beliebig festgelegten Konstanten $a$,$b$ und $c$. Dabei muss allerdings $a\\ne 0$ gelten, sonst läge keine quadratische Funktion vor.\n",
    "\n",
    "Man bezeichnet die Zahlen $a$, $b$ und $c$ als Koeffizienten und nennt insbesondere $a$ den Leitkoeffizienten."
   ]
  },
  {
   "cell_type": "markdown",
   "metadata": {},
   "source": [
    "## Beispiel\n",
    "\n",
    "Plotten Sie die quadratische Funktion $f(x) = 2\\,x^2 - 4\\,x + 8$ im Intervall $-3\\le x \\le 5$."
   ]
  },
  {
   "cell_type": "code",
   "execution_count": null,
   "metadata": {},
   "outputs": [],
   "source": [
    "from matplotlib import pyplot as plt\n",
    "%matplotlib inline\n",
    "%config InlineBackend.figure_format='retina'\n",
    "\n",
    "import pandas as pd\n",
    "import numpy as np"
   ]
  },
  {
   "cell_type": "code",
   "execution_count": null,
   "metadata": {},
   "outputs": [],
   "source": [
    "lx = np.linspace(-3,5)\n",
    "\n",
    "df = pd.DataFrame(\n",
    "    {\n",
    "        'lx': lx,\n",
    "        'lf': 2*lx**2 - 4*lx + 8\n",
    "    }\n",
    ")\n",
    "\n",
    "ax = df.plot(x='lx', y='lf', label='$y=2\\,x^2 - 4\\,x + 8$', grid=True)\n",
    "\n",
    "ax.set(xlabel='x',ylabel='y',ylim=(0,40))\n",
    "ax.axhline(0,c='k',clip_on=False)\n",
    "ax.axvline(0,c='k')\n",
    "plt.show()"
   ]
  },
  {
   "cell_type": "markdown",
   "metadata": {},
   "source": [
    "Der Graph einer quadratischen Funktion wird auch als Parabel bezeichnet. Parabeln haben eine charakteristische Form. Sind sie nach oben geöffnet, so haben sie einen Punkt, an dem der $y$-Wert minimal wird. Diesen Punkt bezeichnet man als Scheitelpunkt. Er kann einfach durch die Formeln\n",
    "\n",
    "\\begin{align}\n",
    "  x_s &= -\\dfrac{b}{2\\,a} \\\\\n",
    "  y_s &= f(x_s)\n",
    "\\end{align}\n",
    "\n",
    "berechnet werden, im Beispiel ist:"
   ]
  },
  {
   "cell_type": "code",
   "execution_count": null,
   "metadata": {},
   "outputs": [],
   "source": [
    "a = 2\n",
    "b = -4\n",
    "c = 8\n",
    "\n",
    "x_s = -b/(2*a)\n",
    "y_s = a*x_s**2 + b*x_s + c\n",
    "\n",
    "(x_s,y_s)"
   ]
  },
  {
   "cell_type": "code",
   "execution_count": null,
   "metadata": {},
   "outputs": [],
   "source": [
    "ax = df.plot(x='lx', y='lf', label='$y=2\\,x^2 - 4\\,x + 8$', grid=True)\n",
    "\n",
    "ax.scatter(x_s,y_s,c='r')\n",
    "ax.axhline(y_s,c='r')\n",
    "ax.axvline(x_s,c='r')\n",
    "\n",
    "ax.plot([0,2],[c,c],c='k',marker='o')\n",
    "\n",
    "ax.set(xlabel='x',ylabel='y',ylim=(0,40))\n",
    "ax.axhline(0,c='k',clip_on=False)\n",
    "ax.axvline(0,c='k')\n",
    "plt.show()"
   ]
  },
  {
   "cell_type": "markdown",
   "metadata": {},
   "source": [
    "Parabeln sind achsensymmetrisch bezüglich ihres Scheitels $x_s$. Das ermöglicht eine einfache Bestimmung des Scheitelpunktes. Wird die schwarz eingetragene Linie betrachtet, so gilt für die Schnittpunkte dieser Linie mit der Parabel:\n",
    "\n",
    "\\begin{align}\n",
    "  f(x) &= c \\\\\n",
    "  a\\,x^2 + b\\,x + c &= c \\\\\n",
    "  a\\,x^2 + b\\,x &= 0 \\\\\n",
    "  x\\cdot(a\\,x + b) &= 0\n",
    "\\end{align}"
   ]
  },
  {
   "cell_type": "markdown",
   "metadata": {},
   "source": [
    "Der **Satz vom Nullprodukt** besagt, dass ein Produkt aus zwei Faktoren nur dann den Wert 0 haben kann, wenn mindestens einer dieser Faktoren den Wert 0 hat. Die letzte Gleichung ist ein Produkt aus den beiden Faktoren\n",
    "$x$ und $(a\\,x+b)$ besteht. Das bedeutet, dass entweder\n",
    "\n",
    "\\begin{align}\n",
    "  x &= 0 \\quad\\text{oder} \\\\\n",
    "  a\\,x + b &= 0\n",
    "\\end{align}\n",
    "\n",
    "sein muss."
   ]
  },
  {
   "cell_type": "markdown",
   "metadata": {},
   "source": [
    "Die beiden schwarz markierten Punkte sind deshalb $x_1=0$ und $x_2=-\\frac{b}{a}$. Aufgrund der Symmetrie der Parabel muss der Scheitelpunkt mittig zwischen diesen beiden Punkten liegen, daher ist \n",
    "\n",
    "$$\n",
    "  x_s = \\dfrac{x_1+x_2}{2} = -\\dfrac{b}{2\\,a}\n",
    "$$\n",
    "\n",
    "Diese Formel ist weiter oben schon benutzt worden."
   ]
  },
  {
   "cell_type": "markdown",
   "metadata": {},
   "source": [
    "## Aufgabe 1\n",
    "\n",
    "Stellen Sie die Funktion\n",
    "\n",
    "$$\n",
    "  f(x) = 3\\,x^2 - 18\\,x +7\n",
    "$$\n",
    "\n",
    "in einem Diagramm dar. Wählen Sie das Intervall auf der $x$-Achse so, dass der Scheitelpunkt mittig liegt. Die Intervallbreite soll insgesamt 10 Einheiten betragen."
   ]
  },
  {
   "cell_type": "code",
   "execution_count": null,
   "metadata": {},
   "outputs": [],
   "source": [
    "# Ihre Lösung beginnt hier"
   ]
  },
  {
   "cell_type": "markdown",
   "metadata": {},
   "source": [
    "## Aufgabe 2\n",
    "\n",
    "Die Funktion\n",
    "\n",
    "$$\n",
    "  g(x) = -\\dfrac{1}{3}\\,x^2 + 6\\,x - 24\n",
    "$$\n",
    "\n",
    "ist eine nach unten geöffnete Parabel. Stellen Sie den Graphen $y=g(x)$ in einem Diagramm dar und markieren Sie den Scheitelpunkt und die Schnittpunkte mit den Koordinatenachsen. \n",
    "\n",
    "**(Hinweis:)** Benutzen Sie `sympy` um die Schnittpunkte mit der $x$-Achse zu berechnen."
   ]
  },
  {
   "cell_type": "code",
   "execution_count": null,
   "metadata": {},
   "outputs": [],
   "source": [
    "from sympy import *\n",
    "init_printing()"
   ]
  },
  {
   "cell_type": "code",
   "execution_count": null,
   "metadata": {},
   "outputs": [],
   "source": [
    "# Ihre Lösung beginnt hier"
   ]
  }
 ],
 "metadata": {
  "kernelspec": {
   "display_name": "Python 3",
   "language": "python",
   "name": "python3"
  },
  "language_info": {
   "codemirror_mode": {
    "name": "ipython",
    "version": 3
   },
   "file_extension": ".py",
   "mimetype": "text/x-python",
   "name": "python",
   "nbconvert_exporter": "python",
   "pygments_lexer": "ipython3",
   "version": "3.7.2"
  }
 },
 "nbformat": 4,
 "nbformat_minor": 2
}
