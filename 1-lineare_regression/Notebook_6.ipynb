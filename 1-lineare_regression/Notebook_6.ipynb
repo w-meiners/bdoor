{
 "cells": [
  {
   "cell_type": "code",
   "execution_count": 1,
   "metadata": {},
   "outputs": [],
   "source": [
    "import matplotlib.pyplot as plt\n",
    "%config InlineBackend.figure_format='retina'\n",
    "%matplotlib inline\n",
    "\n",
    "import pandas as pd\n",
    "import numpy as np\n",
    "\n",
    "from scipy.optimize import curve_fit\n",
    "\n",
    "import messwerte as mw"
   ]
  },
  {
   "cell_type": "code",
   "execution_count": 2,
   "metadata": {},
   "outputs": [
    {
     "data": {
      "text/html": [
       "<div>\n",
       "<style scoped>\n",
       "    .dataframe tbody tr th:only-of-type {\n",
       "        vertical-align: middle;\n",
       "    }\n",
       "\n",
       "    .dataframe tbody tr th {\n",
       "        vertical-align: top;\n",
       "    }\n",
       "\n",
       "    .dataframe thead th {\n",
       "        text-align: right;\n",
       "    }\n",
       "</style>\n",
       "<table border=\"1\" class=\"dataframe\">\n",
       "  <thead>\n",
       "    <tr style=\"text-align: right;\">\n",
       "      <th></th>\n",
       "      <th>x</th>\n",
       "      <th>y</th>\n",
       "    </tr>\n",
       "  </thead>\n",
       "  <tbody>\n",
       "    <tr>\n",
       "      <th>0</th>\n",
       "      <td>1.000000</td>\n",
       "      <td>4.752360</td>\n",
       "    </tr>\n",
       "    <tr>\n",
       "      <th>1</th>\n",
       "      <td>2.154435</td>\n",
       "      <td>7.692671</td>\n",
       "    </tr>\n",
       "    <tr>\n",
       "      <th>2</th>\n",
       "      <td>4.641589</td>\n",
       "      <td>15.467321</td>\n",
       "    </tr>\n",
       "    <tr>\n",
       "      <th>3</th>\n",
       "      <td>10.000000</td>\n",
       "      <td>21.997377</td>\n",
       "    </tr>\n",
       "    <tr>\n",
       "      <th>4</th>\n",
       "      <td>21.544347</td>\n",
       "      <td>37.891280</td>\n",
       "    </tr>\n",
       "    <tr>\n",
       "      <th>5</th>\n",
       "      <td>46.415888</td>\n",
       "      <td>58.583871</td>\n",
       "    </tr>\n",
       "    <tr>\n",
       "      <th>6</th>\n",
       "      <td>100.000000</td>\n",
       "      <td>124.612076</td>\n",
       "    </tr>\n",
       "    <tr>\n",
       "      <th>7</th>\n",
       "      <td>215.443469</td>\n",
       "      <td>183.783788</td>\n",
       "    </tr>\n",
       "    <tr>\n",
       "      <th>8</th>\n",
       "      <td>464.158883</td>\n",
       "      <td>292.936989</td>\n",
       "    </tr>\n",
       "    <tr>\n",
       "      <th>9</th>\n",
       "      <td>1000.000000</td>\n",
       "      <td>545.465323</td>\n",
       "    </tr>\n",
       "  </tbody>\n",
       "</table>\n",
       "</div>"
      ],
      "text/plain": [
       "             x           y\n",
       "0     1.000000    4.752360\n",
       "1     2.154435    7.692671\n",
       "2     4.641589   15.467321\n",
       "3    10.000000   21.997377\n",
       "4    21.544347   37.891280\n",
       "5    46.415888   58.583871\n",
       "6   100.000000  124.612076\n",
       "7   215.443469  183.783788\n",
       "8   464.158883  292.936989\n",
       "9  1000.000000  545.465323"
      ]
     },
     "execution_count": 2,
     "metadata": {},
     "output_type": "execute_result"
    }
   ],
   "source": [
    "n = 10,\n",
    "c_0 = 5,\n",
    "kappa_0 = 0.67\n",
    "x_0 = 1\n",
    "x_1 = 1000\n",
    "epsilon=5e-2\n",
    "\n",
    "lx, ly = mw.rand_pot_messwerte(\n",
    "    n=10,\n",
    "    x_0=x_0,\n",
    "    x_1=x_1,\n",
    "    c=c_0,\n",
    "    kappa=kappa_0,\n",
    "    epsilon=epsilon\n",
    ")\n",
    "\n",
    "df = pd.DataFrame(\n",
    "    {\n",
    "        'x': lx,\n",
    "        'y': ly\n",
    "    }\n",
    ")\n",
    "\n",
    "df"
   ]
  },
  {
   "cell_type": "code",
   "execution_count": 3,
   "metadata": {},
   "outputs": [],
   "source": [
    "def f_lin(x, a,b):\n",
    "    return a*x+b"
   ]
  },
  {
   "cell_type": "markdown",
   "metadata": {},
   "source": [
    "In die Funktion `curve_fit()` werden nicht die Daten `df.x` und `df.y` eingetragen, denn es handelt sich hier nicht um lineare Regression.\n",
    "\n",
    "Vielmehr folgt aus\n",
    "\n",
    "$$\n",
    "  y = c\\,x^\\kappa\n",
    "$$\n",
    "\n",
    "durch logarithmieren beider Seiten der Gleichung\n",
    "\n",
    "\\begin{align}\n",
    "  \\log(y) &= \\underbrace{\\log(c)}_{b} + \\underbrace{\\kappa}_{a}\\,\\log(x)\n",
    "\\end{align}\n",
    "\n",
    "Das heißt, in einem doppelt logarithmisch geteilten Diagramm ist die Potenzfunktion $y=c\\,x^\\varkappa$ eine Gerade. Die Parameter dieser Geraden können durch lineare Regression berechnet werden. Dazu werden der Funktion `curve_fit` statt `df.x` und `df.y` die logarithmierten Werte `np.log(df.x)` und `np.log(df.y)` übergeben. Für die Ergebnisse der Regression ist dann\n",
    "\n",
    "\\begin{align}\n",
    "  \\kappa &= a\\\\\n",
    "  \\log(c) &= b \\quad\\implies\\quad c = \\mathrm{e}^b\n",
    "\\end{align}"
   ]
  },
  {
   "cell_type": "code",
   "execution_count": 4,
   "metadata": {},
   "outputs": [
    {
     "data": {
      "text/plain": [
       "array([0.68048849, 1.5651065 ])"
      ]
     },
     "execution_count": 4,
     "metadata": {},
     "output_type": "execute_result"
    }
   ],
   "source": [
    "p_opt, cov_opt = curve_fit(f_lin, np.log(df.x),np.log(df.y))\n",
    "p_opt"
   ]
  },
  {
   "cell_type": "code",
   "execution_count": 5,
   "metadata": {},
   "outputs": [
    {
     "data": {
      "text/plain": [
       "(4.783184303657614, 0.6804884897702406)"
      ]
     },
     "execution_count": 5,
     "metadata": {},
     "output_type": "execute_result"
    }
   ],
   "source": [
    "a,b = p_opt\n",
    "kappa=a\n",
    "c=np.exp(b)\n",
    "\n",
    "(c,kappa)"
   ]
  },
  {
   "cell_type": "code",
   "execution_count": 6,
   "metadata": {},
   "outputs": [
    {
     "data": {
      "text/plain": [
       "<matplotlib.legend.Legend at 0x118d888d0>"
      ]
     },
     "execution_count": 6,
     "metadata": {},
     "output_type": "execute_result"
    },
    {
     "data": {
      "image/png": "[encoded data removed]",
      "text/plain": [
       "<Figure size 432x288 with 1 Axes>"
      ]
     },
     "metadata": {
      "image/png": {
       "height": 263,
       "width": 402
      },
      "needs_background": "light"
     },
     "output_type": "display_data"
    }
   ],
   "source": [
    "ax = df.plot(kind='scatter',loglog=True, x='x',y='y', label='Messwerte')\n",
    "\n",
    "lx = np.linspace(1e-1,1e3,200)\n",
    "ax.plot(lx,c_0*lx**kappa_0,c='r',ls='dotted',label='Original')\n",
    "ax.plot(lx,c*lx**kappa,c='b',label='Regression',alpha=0.5)\n",
    "ax.set(xlim=(1,1e3),ylim=(1e-1,0.7e3))\n",
    "ax.grid(which='major',lw=0.5,c='k')\n",
    "ax.grid(which='minor',lw=0.25,c='k')\n",
    "\n",
    "ax.legend()"
   ]
  },
  {
   "cell_type": "code",
   "execution_count": 7,
   "metadata": {},
   "outputs": [],
   "source": [
    "#df.to_csv('Testdaten_Potenz.csv',index=None)"
   ]
  }
 ],
 "metadata": {
  "kernelspec": {
   "display_name": "Python 3",
   "language": "python",
   "name": "python3"
  },
  "language_info": {
   "codemirror_mode": {
    "name": "ipython",
    "version": 3
   },
   "file_extension": ".py",
   "mimetype": "text/x-python",
   "name": "python",
   "nbconvert_exporter": "python",
   "pygments_lexer": "ipython3",
   "version": "3.7.2"
  }
 },
 "nbformat": 4,
 "nbformat_minor": 2
}
