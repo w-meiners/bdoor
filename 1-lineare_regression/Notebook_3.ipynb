{
 "cells": [
  {
   "cell_type": "markdown",
   "metadata": {},
   "source": [
    "# Darstellung von quadratischen Funktionen\n",
    "\n",
    "Sollen quadratische Funktionen in einem Diagramm dargestellt werden, so muss für die $x$-Achse ein geeignetes Intervall festgelegt werden. Dazu gibt es verschieden Möglichkeiten:\n",
    "\n",
    "- Durch die Aufgabenstellung kommt nur ein bestimmtes Intervall in Frage. Soll zum Beispiel die Querschnittsfläche\n",
    "  von Rohrleitungen als Funktion des Durchmessers dargestellt werden, so ist\n",
    "  \n",
    "  $$ \n",
    "    0 \\le x \\le d_\\text{max}\n",
    "  $$\n",
    "  \n",
    "  sinnvoll, wobei $d_\\text{max}$ der maximale Durchmesser ist, der in diesem Diagramm auftritt.\n",
    "- Durch die Aufgabenstellung wird kein konkretes Intervall vorgegeben. Dann versucht man, die interessanten\n",
    "  Eigenschaften der Funktion in dem Diagramm zu zeigen. Das können z.B.\n",
    "  - Die Schnittpunkte mit der $x$-Achse und der Schnittpunkt mit der $y$-Achse,\n",
    "  - der Scheitelpunkt\n",
    "  \n",
    "  sein.\n",
    "\n",
    "Ist ein quadratischer Ausdruck `y` in einer Variablen `v` gegeben, so können diese Größen mit `sympy` leicht ermittelt werden. Dazu muss die Variable nicht `x` heißen, sondern kann einen beliebigen Namen haben:"
   ]
  },
  {
   "cell_type": "markdown",
   "metadata": {},
   "source": [
    "## Beispiel\n",
    "\n",
    "Berechnen Sie den Scheitelpunkt und die Schnittpunkte mit der $x$-Achse des quadratischen Ausdrucks\n",
    "\n",
    "`expr = 3*z**2 - 5*z + 9`\n",
    "\n",
    "wobei `z` die Variable ist."
   ]
  },
  {
   "cell_type": "code",
   "execution_count": null,
   "metadata": {},
   "outputs": [],
   "source": [
    "from sympy import *\n",
    "init_printing()\n",
    "\n",
    "import matplotlib.pyplot as plt\n",
    "%matplotlib inline\n",
    "%config InlineBackend.figure_format='retina'\n",
    "\n",
    "import pandas as pd\n",
    "import numpy as np\n",
    "\n",
    "from fun_expr import Function_from_Expression as FE"
   ]
  },
  {
   "cell_type": "code",
   "execution_count": null,
   "metadata": {},
   "outputs": [],
   "source": [
    "z = Symbol('z')\n",
    "\n",
    "expr = 3*z**2 - 5*z + 9\n",
    "expr"
   ]
  },
  {
   "cell_type": "markdown",
   "metadata": {},
   "source": [
    "In diesem Fall sind die Koeffizienten $a=3$, $b=-5$ und $c=9$ bekannt und können leicht in die Formel\n",
    "\n",
    "`x_s = -b/(2*a)` \n",
    "\n",
    "eingegeben werden. Häufig sind diese aber durch eine Berechnung ermittelt worden. Deshalb muss man die Koeffizienten dem Ausdruck `expr` entnehmen können. Das geht mit der Methode `expr.coeff()`. Diese Methode ermöglicht es, beliebige Koeffizienten einer beliebigen Variablen zu ermittlen:"
   ]
  },
  {
   "cell_type": "code",
   "execution_count": null,
   "metadata": {},
   "outputs": [],
   "source": [
    "a = expr.coeff(z,2)\n",
    "b = expr.coeff(z,1)\n",
    "c = expr.coeff(z,0)\n",
    "\n",
    "(a,b,c)"
   ]
  },
  {
   "cell_type": "markdown",
   "metadata": {},
   "source": [
    "Deshalb lässt sich der Scheitelpunkt einfach mittels der Formel\n",
    "\n",
    "`z_s = -expr.coeff(z,1)/(2*expr.coeff(z,2))`\n",
    "\n",
    "berechnen:"
   ]
  },
  {
   "cell_type": "code",
   "execution_count": null,
   "metadata": {},
   "outputs": [],
   "source": [
    "z_s = -expr.coeff(z,1)/(2*expr.coeff(z,2))\n",
    "y_s = expr.subs(z,z_s)\n",
    "\n",
    "(z_s,y_s)"
   ]
  },
  {
   "cell_type": "markdown",
   "metadata": {},
   "source": [
    "Die Schnittpunkte mit der $x$-Achse ermittelt man durch Lösen der quadratischen Gleichung\n",
    "\n",
    "\\begin{align}\n",
    "  \\text{expr} &= 0\\\\\n",
    "  3\\,z^2 -5\\,z + 9 &= 0\n",
    "\\end{align}"
   ]
  },
  {
   "cell_type": "code",
   "execution_count": null,
   "metadata": {},
   "outputs": [],
   "source": [
    "eq = Eq(expr,0)\n",
    "eq"
   ]
  },
  {
   "cell_type": "code",
   "execution_count": null,
   "metadata": {},
   "outputs": [],
   "source": [
    "lsg = solveset(eq)\n",
    "lsg"
   ]
  },
  {
   "cell_type": "markdown",
   "metadata": {},
   "source": [
    "In diesem Fall existieren keine Schnittpunkte mit der $z$-Achse. Das erkennt man daran, dass die Lösung *komplexe* Zahlen enthält, die durch den Faktor $i$ gekennzeichnet sind. Sollen solche *komplexen* Lösungen nicht angezeigt werden. so schreibt man"
   ]
  },
  {
   "cell_type": "code",
   "execution_count": null,
   "metadata": {},
   "outputs": [],
   "source": [
    "lsg = solveset(eq,domain=S.Reals)\n",
    "lsg"
   ]
  },
  {
   "cell_type": "markdown",
   "metadata": {},
   "source": [
    "Die Lösung wird als Menge von Elementen zurückgegeben. Wenn es keine Lösungen gibt, so enthält diese Menge keine Elemente. Man spricht von einer leeren Menge, in Zeichen: $\\emptyset$. Diese Parabel schneidet die $z$-Achse nicht."
   ]
  },
  {
   "cell_type": "markdown",
   "metadata": {},
   "source": [
    "Um den Ausdruck in einem Diagramm darzustellen, wird `matplotlib` mit `numpy` benutzt:"
   ]
  },
  {
   "cell_type": "code",
   "execution_count": null,
   "metadata": {},
   "outputs": [],
   "source": [
    "d = 3\n",
    "lz = np.linspace(float(z_s)-d,float(z_s)+d)\n",
    "f = lambdify(z,expr)\n",
    "\n",
    "df = pd.DataFrame(\n",
    "    {\n",
    "        'z': lz,\n",
    "        'expr': f(lz)\n",
    "    }\n",
    ")\n",
    "\n",
    "df.head()"
   ]
  },
  {
   "cell_type": "code",
   "execution_count": null,
   "metadata": {},
   "outputs": [],
   "source": [
    "ax = df.plot(x='z',y='expr',label=f'$y=3\\,z^2 - 5\\,z + 9$',grid=True)\n",
    "ax.scatter(z_s,f(z_s))\n",
    "ax.scatter(0,f(0))\n",
    "\n",
    "ax.set(ylim=(0,40),ylabel='y')\n",
    "ax.axhline(0,c='k',clip_on=False)\n",
    "ax.axvline(0,c='k')"
   ]
  },
  {
   "cell_type": "markdown",
   "metadata": {},
   "source": [
    "## Aufgabe\n",
    "\n",
    "Stellen Sie die Funktion $f(x) = -5\\,x^2 +3\\,x + 26$ in einem Diagramm dar. Bestimmen Sie dazu mit `sympy` den Scheitelpunkt und zeichnen Sie diesen in das Diagramm ein.\n",
    "\n",
    "Wählen Sie das Intervall für die $x$-Achse so, dass der Scheitelpunkt gut erkennbar ist."
   ]
  },
  {
   "cell_type": "code",
   "execution_count": null,
   "metadata": {},
   "outputs": [],
   "source": [
    "# Ihre Lösung beginnt hier"
   ]
  },
  {
   "cell_type": "markdown",
   "metadata": {},
   "source": [
    "## Aufgabe\n",
    "\n",
    "Die Funktion $f$ hängt nicht nur von $x$ ab, sondern von einem zusätzlichen Parameter $a$. Dabei ist $a$ ein Wert, der beliebig gewählt werden kann, aber sich nicht verändert. Man kennzeichnet dies oft durch die Schreibweise $f(x;a)$, wobei $x$ die Variable und $a$ der Parameter ist. \n",
    "\n",
    "$$\n",
    "  f(x;a) = -5\\,x^3 + a\\,x + 15\n",
    "$$\n",
    "\n",
    "Geben Sie die Graphen $y=f(x;a)$ für $a\\in\\{-2,-1,0,1,2\\}$ an. Die Variable $x$ soll im Intervall $-2\\le x\\le 2$ variieren."
   ]
  },
  {
   "cell_type": "code",
   "execution_count": null,
   "metadata": {},
   "outputs": [],
   "source": [
    "# Ihre Lösung beginnt hier"
   ]
  },
  {
   "cell_type": "markdown",
   "metadata": {},
   "source": [
    "## Aufgabe\n",
    "\n",
    "Im folgenden hängt die Funktion $f$ nicht nur von der Variablen $x$ ab, sondern zusätzlich von einem *Parameter* b. Dieser wird für den Verlauf der Funktion als nicht veränderlich angesehen. Dies wird oft durch die Trennung der Variablen durch ein Semikolon angezeigt, man schreibt $f(x;b)$\n",
    "\n",
    "Bestimmen Sie mittels `sympy` den Scheitelpunkt der quadratischen Funktion\n",
    "\n",
    "$$\n",
    "  f(x;b) = 15\\,x^2 - 3\\cdot b\\cdot x + 5\\,b^2-10\n",
    "$$\n",
    "\n",
    "Dabei soll $b$ eine beliebige aber fest gewählte Zahl sein. Überprüfen Sie Ihr Ergebnis für die Zahlen $b \\in \\{2,8,12\\}$"
   ]
  },
  {
   "cell_type": "code",
   "execution_count": null,
   "metadata": {},
   "outputs": [],
   "source": [
    "# Ihre Lösung beginnt hier"
   ]
  }
 ],
 "metadata": {
  "kernelspec": {
   "display_name": "Python 3",
   "language": "python",
   "name": "python3"
  },
  "language_info": {
   "codemirror_mode": {
    "name": "ipython",
    "version": 3
   },
   "file_extension": ".py",
   "mimetype": "text/x-python",
   "name": "python",
   "nbconvert_exporter": "python",
   "pygments_lexer": "ipython3",
   "version": "3.7.2"
  }
 },
 "nbformat": 4,
 "nbformat_minor": 2
}
