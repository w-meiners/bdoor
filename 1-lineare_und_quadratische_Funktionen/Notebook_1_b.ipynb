{
 "cells": [
  {
   "cell_type": "markdown",
   "metadata": {},
   "source": [
    "# Weitere Übungen zum Befehl `np.linspace()`"
   ]
  },
  {
   "cell_type": "markdown",
   "metadata": {},
   "source": [
    "***"
   ]
  },
  {
   "cell_type": "markdown",
   "metadata": {},
   "source": [
    "# Vollständige Liste der Parameter von np.linspace()\n",
    "\n",
    "Die Funktion `np.linspace()` hat mehr Parameter, als bis jetzt besprochen wurden. Sie kann\n",
    "auf zwei verschiedene Arten aufgerufen werden.\n",
    "\n",
    "Die vollständige Parameterliste dieser Funktion lautet entweder\n",
    "\n",
    "`lx = np.linspace(start, stop, num=50, endpoint=True, ret_step=False, dtype=None)`\n",
    "\n",
    "oder\n",
    "\n",
    "`lx, step = np.linspace(start, stop, num=50, endpoint=True, retstep=True, dtype=None)`\n",
    "\n",
    "Der Unterschied im Vergleich zum ersten Aufruf besteht darin, dass `ret_step=True` ist. Dadurch wird das `array` der Zahlen in der Variablen `lx` zurückgegeben und zusätzlich die Schrittweite in der Variablen `step`.\n",
    "\n",
    "Die Bedeutung der Aufrufparameter ist im Einzelnen:\n",
    "\n",
    "- **start**: erster zurückgegebener Wert\n",
    "- **stop**: letzter zurückgegebener Wert\n",
    "- **num**: Anzahl der zurückgegebenen Werte. Wenn hier nichts angegeben wird, werden 50 Werte zurückgegeben\n",
    "- **endpoint=True**: Der Endpunkt des Intervalls (`stop`) wird zurückgegeben \n",
    "  (Standardfall, muss nicht angegeben werden)\n",
    "- **endpoint=False**: Der Endpunkt des Intervalls (`stop`) wird nicht zurückgegeben\n",
    "  (muss angegeben werden)\n",
    "- **retstep=False**: Die Schrittweite wird nicht zurückgegeben (Standardfall, muss nicht angegeben werden)\n",
    "- **retstep=True**: Die Schrittweite wird zurückgegeben (muss angegeben werden)\n",
    "- **dtype=None**: Der Datentyp der zurückgegebenen Werte wird automatisch bestimmt \n",
    "  (Standardfall, muss nicht angegeben werden)\n",
    "- **dtype=Type**: Der Datentyp der zurückgegebenen Werte entspricht Type (muss angegeben werden)\n",
    "\n",
    "In den meisten Fällen werden die ersten drei oder vier Parameter benötigt. In seltenen Fällen kann es nötig werden, den Endpunkt des Intervalls nicht zu den Daten zu zählen. Dann setzt man `endpoint=False`. Manchmal ist es auch sinnvoll, den Datentyp angeben zu können."
   ]
  },
  {
   "cell_type": "markdown",
   "metadata": {},
   "source": [
    "***"
   ]
  },
  {
   "cell_type": "markdown",
   "metadata": {},
   "source": [
    "### Aufgabe 4\n",
    "\n",
    "Das *halboffene Intervall* $-5 \\le x \\lt 5$ besteht aus allen Zahlen, die zwischen $-5$  und $+5$ liegen, wobei der Endwert des Intervalls wegen $x \\lt 5$ aber ausgeschlossen ist. Geben Sie eine Überdeckung dieses Intervalls mit 10 Punkten an. Achten Sie insbesondere darauf, dass der Endpunkt des Intervalls nicht zu den zurückgegebenen Werten gehören darf. Plotten Sie die Funktion \n",
    "\n",
    "$$\n",
    "  y = 1.3\\,x + 0.5\n",
    "$$\n",
    "\n",
    "und beantworten Sie weiterhin die Fragen\n",
    "\n",
    "- Durch wie viele Teilintervalle wird das Intervall überdeckt?\n",
    "- Welche Schrittweite ergibt sich\n",
    "- Was fällt Ihnem bei dem geplotteten Diagramm auf?"
   ]
  },
  {
   "cell_type": "markdown",
   "metadata": {},
   "source": [
    "#### Lösung"
   ]
  },
  {
   "cell_type": "code",
   "execution_count": null,
   "metadata": {},
   "outputs": [],
   "source": []
  },
  {
   "cell_type": "markdown",
   "metadata": {},
   "source": [
    "***"
   ]
  },
  {
   "cell_type": "markdown",
   "metadata": {},
   "source": [
    "### Aufgabe 5\n",
    "In wie viele Teilintervalle wird das Intervall $0\\le x \\le 10$ durch den Aufruf\n",
    "\n",
    "`lx = np.linspace(0,10,10)`\n",
    "\n",
    "zerlegt? Geben Sie auch die Schrittlänge (Länge eines Teilintervalls) an."
   ]
  },
  {
   "cell_type": "markdown",
   "metadata": {},
   "source": [
    "#### Lösung"
   ]
  },
  {
   "cell_type": "markdown",
   "metadata": {},
   "source": [
    "***"
   ]
  },
  {
   "cell_type": "markdown",
   "metadata": {},
   "source": [
    "### Aufgabe 6\n",
    "Das Intervall $0\\le x \\le 6$ soll in genau sechs Teilintervalle zerlegt werden.\n",
    "\n",
    "Schreiben Sie die notwendigen Punkte von Hand auf und geben Sie den erforderlichen `np.linspace()`-Funktionsaufruf an. \n",
    "\n",
    "Überprüfen Sie Ihr Ergebnis mit Hilfe des Notebooks"
   ]
  },
  {
   "cell_type": "markdown",
   "metadata": {},
   "source": [
    "#### Lösung"
   ]
  },
  {
   "cell_type": "code",
   "execution_count": null,
   "metadata": {},
   "outputs": [],
   "source": []
  },
  {
   "cell_type": "markdown",
   "metadata": {},
   "source": [
    "***"
   ]
  },
  {
   "cell_type": "markdown",
   "metadata": {},
   "source": [
    "### Aufgabe 7\n",
    "Welche Schrittweite liefert der Funktionsaufruf `lx = np.linspace(1,10)`? \n",
    "\n",
    "Geben Sie das Ergebnis zunächst von Hand an und überprüfen Sie es mit Hilfe des Notebooks."
   ]
  },
  {
   "cell_type": "markdown",
   "metadata": {},
   "source": [
    "#### Lösung"
   ]
  },
  {
   "cell_type": "code",
   "execution_count": null,
   "metadata": {},
   "outputs": [],
   "source": []
  },
  {
   "cell_type": "markdown",
   "metadata": {},
   "source": [
    "***"
   ]
  }
 ],
 "metadata": {
  "kernelspec": {
   "display_name": "Python 3",
   "language": "python",
   "name": "python3"
  },
  "language_info": {
   "codemirror_mode": {
    "name": "ipython",
    "version": 3
   },
   "file_extension": ".py",
   "mimetype": "text/x-python",
   "name": "python",
   "nbconvert_exporter": "python",
   "pygments_lexer": "ipython3",
   "version": "3.7.2"
  }
 },
 "nbformat": 4,
 "nbformat_minor": 2
}
