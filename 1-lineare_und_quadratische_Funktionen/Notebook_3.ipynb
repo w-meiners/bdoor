{
 "cells": [
  {
   "cell_type": "markdown",
   "metadata": {},
   "source": [
    "# Darstellung von quadratischen Funktionen\n",
    "\n",
    "Sollen quadratische Funktionen in einem Diagramm dargestellt werden, so muss für die $x$-Achse ein geeignetes Intervall festgelegt werden. Dazu gibt es verschieden Möglichkeiten:\n",
    "\n",
    "- Durch die Aufgabenstellung kommt nur ein bestimmtes Intervall in Frage. Soll zum Beispiel die Querschnittsfläche\n",
    "  von Rohrleitungen als Funktion des Durchmessers dargestellt werden, so ist\n",
    "  \n",
    "  $$ \n",
    "    0 \\le x \\le d_\\text{max}\n",
    "  $$\n",
    "  \n",
    "  sinnvoll, wobei $d_\\text{max}$ der maximale Durchmesser ist, der in diesem Diagramm auftritt.\n",
    "- Durch die Aufgabenstellung wird kein konkretes Intervall vorgegeben. Dann versucht man, die interessanten\n",
    "  Eigenschaften der Funktion in dem Diagramm zu zeigen. Das können z.B.\n",
    "  - Die Schnittpunkte mit der $x$-Achse und der Schnittpunkt mit der $y$-Achse,\n",
    "  - der Scheitelpunkt\n",
    "  \n",
    "  sein.\n",
    "  \n",
    "- Häufig wird die unabhängige Variable nicht mit $x$ bezeichnet, sondern hat einen anderen Namen. Soll ein Plot \n",
    "  dargestellt werden, so wird in `numpy` bzw. `matplotlib` trotzdem der Name `x` für die unabhängige Variable verwendet."
   ]
  },
  {
   "cell_type": "markdown",
   "metadata": {},
   "source": [
    "## Beispiel:\n",
    "\n",
    "Stellen Sie die Funktion\n",
    "\n",
    "$$\n",
    "  f(z) = 3\\,z^2 - 5\\,z + 9\n",
    "$$\n",
    "\n",
    "im Intervall $z_s-3 \\le z \\le z_s+3$ dar, wobei $z_s$ der Scheitelpunkt der Parabel ist."
   ]
  },
  {
   "cell_type": "code",
   "execution_count": 1,
   "metadata": {},
   "outputs": [],
   "source": [
    "from sympy import *\n",
    "init_printing()\n",
    "\n",
    "import matplotlib.pyplot as plt\n",
    "%matplotlib inline\n",
    "%config InlineBackend.figure_format='retina'\n",
    "\n",
    "import pandas as pd\n",
    "import numpy as np\n",
    "\n",
    "from fun_expr import Function_from_Expression as FE"
   ]
  },
  {
   "cell_type": "code",
   "execution_count": 2,
   "metadata": {},
   "outputs": [
    {
     "data": {
      "text/latex": [
       "$$f\\left(z\\right) = 3 z^{2} - 5 z + 9$$"
      ],
      "text/plain": [
       "<IPython.core.display.Math object>"
      ]
     },
     "execution_count": 2,
     "metadata": {},
     "output_type": "execute_result"
    }
   ],
   "source": [
    "z = Symbol('z')\n",
    "\n",
    "f = FE(z, 3*z**2 - 5*z + 9,name='f')\n",
    "f.equation()"
   ]
  },
  {
   "cell_type": "markdown",
   "metadata": {},
   "source": [
    "In diesem Fall sind die Koeffizienten $a=3$, $b=-5$ und $c=9$ bekannt und können leicht in die Formel\n",
    "\n",
    "`z_s = -b/(2*a)` \n",
    "\n",
    "eingegeben werden. Häufig sind diese aber durch eine Berechnung ermittelt worden. Deshalb muss man die Koeffizienten der Funktion `f` entnehmen können. Das geht mit der Methode `expr.coeff()`. Diese Methode ermöglicht es, beliebige Koeffizienten einer beliebigen Variablen zu ermittlen:"
   ]
  },
  {
   "cell_type": "code",
   "execution_count": 3,
   "metadata": {},
   "outputs": [
    {
     "data": {
      "image/png": "[encoded data removed]",
      "text/latex": [
       "$$\\left ( 3, \\quad -5, \\quad 9\\right )$$"
      ],
      "text/plain": [
       "(3, -5, 9)"
      ]
     },
     "execution_count": 3,
     "metadata": {},
     "output_type": "execute_result"
    }
   ],
   "source": [
    "a = f.expr.coeff(z,2) # Koeffizient der Variablen z**2 von f.expr\n",
    "b = f.expr.coeff(z,1) # Koeffizient der Variablen z von f.expr\n",
    "c = f.expr.coeff(z,0) # Konstantes Glied bzgl. der Variablen z von f.expr\n",
    "\n",
    "(a,b,c)"
   ]
  },
  {
   "cell_type": "markdown",
   "metadata": {},
   "source": [
    "Deshalb lässt sich der Scheitelpunkt einfach mittels der Formel\n",
    "\n",
    "`z_s = -f.expr.coeff(z,1)/(2*f.expr.coeff(z,2))`\n",
    "\n",
    "berechnen:"
   ]
  },
  {
   "cell_type": "code",
   "execution_count": 4,
   "metadata": {},
   "outputs": [
    {
     "data": {
      "image/png": "[encoded data removed]",
      "text/latex": [
       "$$\\left ( \\frac{5}{6}, \\quad \\frac{83}{12}\\right )$$"
      ],
      "text/plain": [
       "⎛     83⎞\n",
       "⎜5/6, ──⎟\n",
       "⎝     12⎠"
      ]
     },
     "execution_count": 4,
     "metadata": {},
     "output_type": "execute_result"
    }
   ],
   "source": [
    "z_s = -f.expr.coeff(z,1)/(2*f.expr.coeff(z,2))\n",
    "y_s = f(z_s)\n",
    "\n",
    "(z_s,y_s)"
   ]
  },
  {
   "cell_type": "markdown",
   "metadata": {},
   "source": [
    "Die Schnittpunkte mit der $x$-Achse ermittelt man durch Lösen der quadratischen Gleichung\n",
    "\n",
    "\\begin{align}\n",
    "  f(z)&= 0\\\\\n",
    "  3\\,z^2 -5\\,z + 9 &= 0\n",
    "\\end{align}"
   ]
  },
  {
   "cell_type": "code",
   "execution_count": 5,
   "metadata": {},
   "outputs": [
    {
     "data": {
      "image/png": "[encoded data removed]",
      "text/latex": [
       "$$3 z^{2} - 5 z + 9 = 0$$"
      ],
      "text/plain": [
       "   2              \n",
       "3⋅z  - 5⋅z + 9 = 0"
      ]
     },
     "execution_count": 5,
     "metadata": {},
     "output_type": "execute_result"
    }
   ],
   "source": [
    "eq = Eq(f(z),0)\n",
    "eq"
   ]
  },
  {
   "cell_type": "code",
   "execution_count": 6,
   "metadata": {},
   "outputs": [
    {
     "data": {
      "image/png": "[encoded data removed]",
      "text/latex": [
       "$$\\left\\{\\frac{5}{6} - \\frac{\\sqrt{83} i}{6}, \\frac{5}{6} + \\frac{\\sqrt{83} i}{6}\\right\\}$$"
      ],
      "text/plain": [
       "⎧5   √83⋅ⅈ  5   √83⋅ⅈ⎫\n",
       "⎨─ - ─────, ─ + ─────⎬\n",
       "⎩6     6    6     6  ⎭"
      ]
     },
     "execution_count": 6,
     "metadata": {},
     "output_type": "execute_result"
    }
   ],
   "source": [
    "lsg = solveset(eq)\n",
    "lsg"
   ]
  },
  {
   "cell_type": "markdown",
   "metadata": {},
   "source": [
    "In diesem Fall existieren keine Schnittpunkte mit der $z$-Achse. Das erkennt man daran, dass die Lösung *komplexe* Zahlen enthält, die durch den Faktor $i$ gekennzeichnet sind. Sollen solche *komplexen* Lösungen nicht angezeigt werden. so schreibt man"
   ]
  },
  {
   "cell_type": "code",
   "execution_count": 7,
   "metadata": {},
   "outputs": [
    {
     "data": {
      "image/png": "[encoded data removed]",
      "text/latex": [
       "$$\\emptyset$$"
      ],
      "text/plain": [
       "∅"
      ]
     },
     "execution_count": 7,
     "metadata": {},
     "output_type": "execute_result"
    }
   ],
   "source": [
    "lsg = solveset(eq,domain=S.Reals)\n",
    "lsg"
   ]
  },
  {
   "cell_type": "markdown",
   "metadata": {},
   "source": [
    "Die Lösung wird als Menge von Elementen zurückgegeben. Wenn es keine Lösungen gibt, so enthält diese Menge keine Elemente. Man spricht von einer leeren Menge, in Zeichen: $\\emptyset$. Diese Parabel schneidet die $z$-Achse nicht."
   ]
  },
  {
   "cell_type": "markdown",
   "metadata": {},
   "source": [
    "Um den Ausdruck in einem Diagramm darzustellen, wird `matplotlib` mit `numpy` benutzt:"
   ]
  },
  {
   "cell_type": "code",
   "execution_count": 8,
   "metadata": {},
   "outputs": [
    {
     "data": {
      "text/html": [
       "<div>\n",
       "<style scoped>\n",
       "    .dataframe tbody tr th:only-of-type {\n",
       "        vertical-align: middle;\n",
       "    }\n",
       "\n",
       "    .dataframe tbody tr th {\n",
       "        vertical-align: top;\n",
       "    }\n",
       "\n",
       "    .dataframe thead th {\n",
       "        text-align: right;\n",
       "    }\n",
       "</style>\n",
       "<table border=\"1\" class=\"dataframe\">\n",
       "  <thead>\n",
       "    <tr style=\"text-align: right;\">\n",
       "      <th></th>\n",
       "      <th>z</th>\n",
       "      <th>y</th>\n",
       "    </tr>\n",
       "  </thead>\n",
       "  <tbody>\n",
       "    <tr>\n",
       "      <th>0</th>\n",
       "      <td>-2.166667</td>\n",
       "      <td>33.916667</td>\n",
       "    </tr>\n",
       "    <tr>\n",
       "      <th>1</th>\n",
       "      <td>-2.044218</td>\n",
       "      <td>31.757566</td>\n",
       "    </tr>\n",
       "    <tr>\n",
       "      <th>2</th>\n",
       "      <td>-1.921769</td>\n",
       "      <td>29.688428</td>\n",
       "    </tr>\n",
       "    <tr>\n",
       "      <th>3</th>\n",
       "      <td>-1.799320</td>\n",
       "      <td>27.709253</td>\n",
       "    </tr>\n",
       "    <tr>\n",
       "      <th>4</th>\n",
       "      <td>-1.676871</td>\n",
       "      <td>25.820040</td>\n",
       "    </tr>\n",
       "  </tbody>\n",
       "</table>\n",
       "</div>"
      ],
      "text/plain": [
       "          z          y\n",
       "0 -2.166667  33.916667\n",
       "1 -2.044218  31.757566\n",
       "2 -1.921769  29.688428\n",
       "3 -1.799320  27.709253\n",
       "4 -1.676871  25.820040"
      ]
     },
     "execution_count": 8,
     "metadata": {},
     "output_type": "execute_result"
    }
   ],
   "source": [
    "d = 3\n",
    "lz = np.linspace(float(z_s)-d,float(z_s)+d)\n",
    "\n",
    "df = pd.DataFrame(\n",
    "    {\n",
    "        'z': lz,\n",
    "        'y': f.lambdified(lz)\n",
    "    }\n",
    ")\n",
    "\n",
    "df.head()"
   ]
  },
  {
   "cell_type": "code",
   "execution_count": 9,
   "metadata": {},
   "outputs": [
    {
     "data": {
      "text/plain": [
       "<matplotlib.lines.Line2D at 0x11f8a3dd8>"
      ]
     },
     "execution_count": 9,
     "metadata": {},
     "output_type": "execute_result"
    },
    {
     "data": {
      "image/png": "[encoded data removed]",
      "text/plain": [
       "<Figure size 432x288 with 1 Axes>"
      ]
     },
     "metadata": {
      "image/png": {
       "height": 265,
       "width": 382
      },
      "needs_background": "light"
     },
     "output_type": "display_data"
    }
   ],
   "source": [
    "ax = df.plot(\n",
    "    x='z', # Achtung: pandas / matplotlib nennt die unabhängige Variable x\n",
    "    y='y',label=f'$y=3\\,z^2 - 5\\,z + 9$',\n",
    "    grid=True\n",
    ")\n",
    "\n",
    "ax.scatter(z_s,f(z_s))\n",
    "ax.scatter(0,f(0))\n",
    "\n",
    "ax.set(ylim=(0,40),ylabel='y')\n",
    "ax.axhline(0,c='k',clip_on=False)\n",
    "ax.axvline(0,c='k')"
   ]
  },
  {
   "cell_type": "markdown",
   "metadata": {},
   "source": [
    "## Aufgabe\n",
    "\n",
    "- Stellen Sie die Funktion $f(v) = -5\\,v^2 +3\\,v + 26$ in einem Diagramm dar. \n",
    "  Bestimmen Sie dazu mit `sympy` den Scheitelpunkt und zeichnen Sie diesen in das Diagramm ein.\n",
    "\n",
    "  Wählen Sie das Intervall für die $v$-Achse so, dass der Scheitelpunkt gut erkennbar ist.\n",
    "  \n",
    "- Bestimmen Sie die Schnittpunkte mit den Achsen des Koordninatensystems."
   ]
  },
  {
   "cell_type": "code",
   "execution_count": 1,
   "metadata": {},
   "outputs": [],
   "source": [
    "# Ihre Lösung beginnt hier"
   ]
  }
 ],
 "metadata": {
  "kernelspec": {
   "display_name": "Python 3",
   "language": "python",
   "name": "python3"
  },
  "language_info": {
   "codemirror_mode": {
    "name": "ipython",
    "version": 3
   },
   "file_extension": ".py",
   "mimetype": "text/x-python",
   "name": "python",
   "nbconvert_exporter": "python",
   "pygments_lexer": "ipython3",
   "version": "3.7.2"
  }
 },
 "nbformat": 4,
 "nbformat_minor": 2
}
