{
 "cells": [
  {
   "cell_type": "markdown",
   "metadata": {},
   "source": [
    "# Erarbeitung der Funktion np.linspace() \n",
    "\n",
    "am Beispiel der Erstellung einer Wertetabelle für eine lineare Funktion"
   ]
  },
  {
   "cell_type": "markdown",
   "metadata": {},
   "source": [
    "Um das im Beispiel dargestellte Diagramm zu erzeugen, wird `pandas` zusammen mit `numpy` und der Plotbibliothek `matplotlib` verwendet. Diese Module werden im ersten Schritt importiert:"
   ]
  },
  {
   "cell_type": "code",
   "execution_count": null,
   "metadata": {},
   "outputs": [],
   "source": [
    "import pandas as pd # üblicher import von pandas\n",
    "import numpy as np # üblicher import von numpy\n",
    "\n",
    "import matplotlib.pyplot as plt # üblicher import von matplotlib\n",
    "import matplotlib.ticker as tk # ermöglicht die Änderung der Achsenskalierung\n",
    "%matplotlib inline \n",
    "%config InlineBackend.figure_format='retina'  # nur MacBook Pro\n",
    "\n",
    "from IPython.display import display, Markdown\n",
    "\n",
    "def hilfetext(fn):\n",
    "    with open(fn) as f:\n",
    "        display(Markdown(f.read()))"
   ]
  },
  {
   "cell_type": "markdown",
   "metadata": {},
   "source": [
    "Die Wertetabelle wird so erstellt, das zunächst Werte für die $x$-Achse erzeugt werden; das ist der Verbrauch in $\\mathrm{kWh}$. Aus diesen Werten werden dann im nächsten Schritt die benötigten $y$-Werte berechnet. Das sind in diesem Fall zwei Spalten, nämlich die Kosten, die Herrn Meyer entstehen und die Kosten, die Herrn Schmidt entstehen. "
   ]
  },
  {
   "cell_type": "markdown",
   "metadata": {},
   "source": [
    "Da der Verbrauch von Herrn Meyer bei $30\\;000\\,\\mathrm{kWh}$ liegt, muss die $x$-Achse bis $30\\;000$ reichen. Als Startwert wird sinnvollerweise der Wert $0$ gewählt, weil die Grundgebühr auch ohne jeglichen Verbrauch gezahlt werden muss.\n",
    "\n",
    "Das Intervall auf der $x$-Achse besteht deshalb aus allen Zahlen, die innerhalb dieser Grenzen liegen (einschließlich der Randwerte), in Zeichen: \n",
    "\n",
    "$$0 \\le x \\le 30\\,000 \\quad\\text{ oder, alternative Darstellung: }\\quad [0,30\\,000].$$"
   ]
  },
  {
   "cell_type": "markdown",
   "metadata": {},
   "source": [
    "Das Zeichen $\\le$ wird *\"kleiner gleich\"* gelesen und bedeutet, dass der Anfangswert und der Endwert zum Intervall gehören. \n",
    "\n",
    "Um einen Graphen plotten zu können, müssen in diesem Intervall Punkte für die Wertetabelle festgelegt werden. Dabei hängt die Anzahl der Punkte von den Genauigkeitsansprüchen an die Grafik ab. Der Übersichtlichkeit wegen sollen fünf Punkte gleichmäßig verteilt werden. Das sind die Punkte\n",
    "\n",
    "|$x_0$ | $x_1$ | $x_2$ | $x_3$ | $x_4$|\n",
    "-------|-------|-------|-------|------|\n",
    "|0     | 7500  | 15000 | 22500 | 30000|"
   ]
  },
  {
   "cell_type": "markdown",
   "metadata": {},
   "source": [
    "Beachten Sie, dass die Nummerierung der Listenwerte mit dem Index 0 beginnt und der letzte Index deshalb um eins kleiner ist, als die Anzahl der Punkte, die das Intervall überdecken."
   ]
  },
  {
   "cell_type": "markdown",
   "metadata": {},
   "source": [
    "Die Überdeckung \n",
    "\n",
    "$$[x_0, x_1, x_2, x_3, x_4]$$\n",
    "\n",
    "besteht aus fünf Punkten und führt zu vier Teilintervallen gleicher Größe. Das sind die Teilintervalle\n",
    "\n",
    "$$\n",
    "  [0,7\\,500],\\quad [7\\,500,15\\,000],\\quad [15\\,000,22\\,500],\\quad [22\\,500,30\\,000]\n",
    "$$\n",
    "\n",
    "Die Länge eines Teilintervalls ergibt sich deshalb als\n",
    "\n",
    "$$\n",
    "  \\Delta x = \\dfrac{\\text{Länge des Intervalls}}{\\text{Anzahl der Teilintervalle}}\n",
    "           = \\dfrac{30\\,000}{4}\n",
    "           = 7\\,500\n",
    "$$"
   ]
  },
  {
   "cell_type": "markdown",
   "metadata": {},
   "source": [
    "Eine solche gleichmäßige Überdeckung lässt sich mit der Funktion `np.linspace()` erzeugen. Der Aufruf lautet in seiner einfachsten Form:\n",
    "\n",
    "`lx = np.linspace(start,stop,num=50)`\n",
    "\n",
    "In diesem Aufruf steht\n",
    "- **lx** für die zurückgegebenen Zahlenwerte. Dieser Name ist willkürlich gewählt.<br>\n",
    "  Der Buchstabe `l` kommt von `linspace`, der Buchstabe `x` gibt die Koordinatenachse an.\n",
    "- **start** und **stop** geben die Intervallgrenzen an.<br>\n",
    "  Meist wird `start < stop` sein. Es darf aber `start > stop` sein, \n",
    "  dann wird das Intervall in umgekehrter Richtung durchlaufen.\n",
    "- **num** gibt die Anzahl der zurückgegebenen Werte an. <br>\n",
    "  Wird kein Wert für `num` angegeben, so wird ein Standardwert von 50 Punkten genommen.\n",
    "  \n",
    "Auf einzelne Werte des zurückgegebenen `array`-Objekts wird mit `lx[index]` zugegriffen, zum Beispiel gibt `lx[1]` den Wert mit dem Index 1 zurück, dass ist der zweite Eintrag (vgl. die Ausgabe der nächsten Zellen).\n"
   ]
  },
  {
   "cell_type": "code",
   "execution_count": null,
   "metadata": {},
   "outputs": [],
   "source": [
    "# Erzeugung von lx\n",
    "lx = np.linspace(0, 30000, 5)\n",
    "\n",
    "# Kontrollausdruck\n",
    "lx"
   ]
  },
  {
   "cell_type": "markdown",
   "metadata": {},
   "source": [
    "Der Zugriff auf den Wert mit Index 1 erfolgt mit eckigen Klammern:"
   ]
  },
  {
   "cell_type": "code",
   "execution_count": null,
   "metadata": {},
   "outputs": [],
   "source": [
    "lx[1]"
   ]
  },
  {
   "cell_type": "markdown",
   "metadata": {},
   "source": [
    "Nachdem das Intervall `lx` erzeugt worden ist, kann der DataFrame gebildet werden. \n",
    "\n",
    "Um das Vorgehen deutlich zu machen, wird im nächsten Schritt nur die Spalte für die $x$-Achse angelegt:"
   ]
  },
  {
   "cell_type": "code",
   "execution_count": null,
   "metadata": {},
   "outputs": [],
   "source": [
    "# Erzeugung eines DataFrame mit einer Spalte für die x-Achse\n",
    "df = pd.DataFrame(\n",
    "    {\n",
    "        'x': lx\n",
    "    }\n",
    ")\n",
    "\n",
    "# Kontrollausdruck\n",
    "df"
   ]
  },
  {
   "cell_type": "markdown",
   "metadata": {},
   "source": [
    "Da mit `numpy`-Objekten gerechnet werden kann, kann der DataFrame sofort komplett angelegt werden. Häufig werden die beiden Schritte \n",
    "- erstellen des `np.linspace()`-Objekts und \n",
    "- Aufstellen des `pd.DataFrame()`\n",
    "\n",
    "in einer Zelle durchgeführt. Am Ende der Zelle gibt man dann zur Kontrolle den DataFrame (oder einen Teil davon) aus.\n",
    "\n",
    "Die komplette Zelle ist dann:"
   ]
  },
  {
   "cell_type": "code",
   "execution_count": null,
   "metadata": {},
   "outputs": [],
   "source": [
    "# Erzeugung von lx\n",
    "lx = np.linspace(0, 30000, 5)\n",
    "\n",
    "# Erzeugung des gesamten DataFrame df\n",
    "df = pd.DataFrame(\n",
    "    {\n",
    "        'x': lx,\n",
    "        'Meyer': 384 + 0.055*lx,\n",
    "        'Schmidt': 144 + 0.068*lx\n",
    "    }\n",
    ")\n",
    "\n",
    "# Kontrollausdruck\n",
    "df"
   ]
  },
  {
   "cell_type": "markdown",
   "metadata": {},
   "source": [
    "Nachdem der DataFrame fertig erstellt ist, können die Daten geplottet werden. \n",
    "\n",
    "Dabei muss dem Plotbefehl mitgeteilt werden, welche Größe als $x$-Achse zu nutzen ist."
   ]
  },
  {
   "cell_type": "code",
   "execution_count": null,
   "metadata": {},
   "outputs": [],
   "source": [
    "df.plot(x='x')\n",
    "del lx"
   ]
  },
  {
   "cell_type": "markdown",
   "metadata": {},
   "source": [
    "Es gibt eine Fülle von Einstellmöglichkeiten, um die Ausgabe optisch aufzubereiten. Die sollen allerdings nicht an dieser Stelle thematisiert werden. \n",
    "\n",
    "**In den folgenden Aufgaben geht es darum, die Funktion `np.linspace()` genauer kennenzulernen.**"
   ]
  },
  {
   "cell_type": "markdown",
   "metadata": {},
   "source": [
    "***"
   ]
  },
  {
   "cell_type": "markdown",
   "metadata": {},
   "source": [
    "### Aufgabe 1\n",
    "Ergänzen Sie in der folgenden Zelle den Aufruf von `np.linspace()` so, dass die Funktion\n",
    "\n",
    "$$\n",
    "  y = 3\\,x + 5\n",
    "$$\n",
    "\n",
    "für $-3 \\le x \\le 3$ mit 5 Punkten dargestellt wird."
   ]
  },
  {
   "cell_type": "markdown",
   "metadata": {},
   "source": [
    "#### Lösung"
   ]
  },
  {
   "cell_type": "code",
   "execution_count": null,
   "metadata": {},
   "outputs": [],
   "source": [
    "#lx = ...\n",
    "\n",
    "df = pd.DataFrame(\n",
    "    {\n",
    "        'x': lx,\n",
    "        'y': 3*lx + 5\n",
    "    }\n",
    ")\n",
    "\n",
    "df"
   ]
  },
  {
   "cell_type": "code",
   "execution_count": null,
   "metadata": {},
   "outputs": [],
   "source": [
    "df.plot(x='x')"
   ]
  },
  {
   "cell_type": "markdown",
   "metadata": {},
   "source": [
    "**Hilfe**\n",
    "\n",
    "Wenn es mit der Aufgabe Probleme gibt, entfernen Sie das Kommentarzeichen in der nächsten Zelle und führen Sie diese aus:"
   ]
  },
  {
   "cell_type": "code",
   "execution_count": null,
   "metadata": {},
   "outputs": [],
   "source": [
    "# Hilfetext 1 entfernen Sie das Kommentarzeichen und führen Sie aus:\n",
    "#hilfetext('Hilfetexte/A1-h1.md')"
   ]
  },
  {
   "cell_type": "code",
   "execution_count": null,
   "metadata": {},
   "outputs": [],
   "source": [
    "# Hilfetext 2 entfernen Sie das Kommentarzeichen und führen Sie aus:\n",
    "#hilfetext('Hilfetexte/A1-h2.md')"
   ]
  },
  {
   "cell_type": "markdown",
   "metadata": {},
   "source": [
    "***"
   ]
  },
  {
   "cell_type": "markdown",
   "metadata": {},
   "source": [
    "### Aufgabe 2\n",
    "Geben Sie von Hand an, welche Zahlenwerte von dem Befehl \n",
    "\n",
    "`np.linspace(-3,7,5)`\n",
    "\n",
    "erzeugt werden. Überprüfen Sie dann Ihr Ergebnis mit Hilfe Ihres Notebooks."
   ]
  },
  {
   "cell_type": "markdown",
   "metadata": {},
   "source": [
    "#### Lösung\n"
   ]
  },
  {
   "cell_type": "markdown",
   "metadata": {},
   "source": [
    "**Hilfe**\n",
    "\n",
    "Wenn Sie mit dieser Aufgabe Probleme haben, entfernen Sie das Kommentarzeichen vor der nächsten Zelle und führen diese aus:"
   ]
  },
  {
   "cell_type": "code",
   "execution_count": null,
   "metadata": {},
   "outputs": [],
   "source": [
    "# Hilfetext 1 entfernen Sie das Kommentarzeichen und führen Sie aus:\n",
    "#hilfetext('Hilfetexte/A2-h1.md')"
   ]
  },
  {
   "cell_type": "code",
   "execution_count": null,
   "metadata": {},
   "outputs": [],
   "source": [
    "# Hilfetext 2 entfernen Sie das Kommentarzeichen und führen Sie aus:\n",
    "#hilfetext('Hilfetexte/A2-h2.md')"
   ]
  },
  {
   "cell_type": "markdown",
   "metadata": {},
   "source": [
    "***"
   ]
  },
  {
   "cell_type": "markdown",
   "metadata": {},
   "source": [
    "### Aufgabe 3\n",
    "\n",
    "Im Intervall $[-0.5,7.5]$ soll die Funktion\n",
    "\n",
    "$$\n",
    "  f(x) = -5\\,x + 2.5\n",
    "$$\n",
    "\n",
    "dargestellt werden. Erzeugen Sie eine Wertetabelle mit 10 Punkten und plotten Sie die Funktion"
   ]
  },
  {
   "cell_type": "markdown",
   "metadata": {},
   "source": [
    "#### Lösung"
   ]
  },
  {
   "cell_type": "code",
   "execution_count": null,
   "metadata": {},
   "outputs": [],
   "source": []
  },
  {
   "cell_type": "markdown",
   "metadata": {},
   "source": [
    "**Hilfe**\n",
    "Wenn Sie mit der Bearbeitung dieser Aufgabe Probleme haben, entfernen Sie das Kommentarzeichen vor der nächsten Zelle und führen diese aus:"
   ]
  },
  {
   "cell_type": "code",
   "execution_count": null,
   "metadata": {},
   "outputs": [],
   "source": [
    "# Hilfetext 3-1 entfernen Sie das Kommentarzeichen und führen Sie aus:\n",
    "#hilfetext('Hilfetexte/A3-h1.md')"
   ]
  },
  {
   "cell_type": "code",
   "execution_count": null,
   "metadata": {},
   "outputs": [],
   "source": [
    "# Hilfetext 3-2 entfernen Sie das Kommentarzeichen und führen Sie aus:\n",
    "#hilfetext('Hilfetexte/A3-h2.md')"
   ]
  },
  {
   "cell_type": "markdown",
   "metadata": {},
   "source": [
    "***"
   ]
  }
 ],
 "metadata": {
  "kernelspec": {
   "display_name": "Python 3",
   "language": "python",
   "name": "python3"
  },
  "language_info": {
   "codemirror_mode": {
    "name": "ipython",
    "version": 3
   },
   "file_extension": ".py",
   "mimetype": "text/x-python",
   "name": "python",
   "nbconvert_exporter": "python",
   "pygments_lexer": "ipython3",
   "version": "3.7.2"
  }
 },
 "nbformat": 4,
 "nbformat_minor": 2
}
