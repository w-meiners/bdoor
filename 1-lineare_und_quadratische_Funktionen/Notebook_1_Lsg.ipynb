{
 "cells": [
  {
   "cell_type": "markdown",
   "metadata": {},
   "source": [
    "# Erarbeitung der Funktion np.linspace() \n",
    "\n",
    "am Beispiel der Erstellung einer Wertetabelle für eine lineare Funktion"
   ]
  },
  {
   "cell_type": "markdown",
   "metadata": {},
   "source": [
    "Um das im Beispiel dargestellte Diagramm zu erzeugen, wird `pandas` zusammen mit `numpy` und der Plotbibliothek `matplotlib` verwendet. Diese Module werden im ersten Schritt importiert:"
   ]
  },
  {
   "cell_type": "code",
   "execution_count": 1,
   "metadata": {},
   "outputs": [],
   "source": [
    "import pandas as pd # üblicher import von pandas\n",
    "import numpy as np # üblicher import von numpy\n",
    "\n",
    "import matplotlib.pyplot as plt # üblicher import von matplotlib\n",
    "import matplotlib.ticker as tk # ermöglicht die Änderung der Achsenskalierung\n",
    "%matplotlib inline \n",
    "%config InlineBackend.figure_format='retina'  # nur MacBook Pro"
   ]
  },
  {
   "cell_type": "markdown",
   "metadata": {},
   "source": [
    "Die Wertetabelle wird so erstellt, das zunächst Werte für die $x$-Achse erzeugt werden; das ist der Verbrauch in $\\mathrm{kWh}$. Aus diesen Werten werden dann im nächsten Schritt die benötigten $y$-Werte berechnet. Das sind in diesem Fall zwei Spalten, nämlich die Kosten, die Herrn Meyer entstehen und die Kosten, die Herrn Schmidt entstehen. "
   ]
  },
  {
   "cell_type": "markdown",
   "metadata": {},
   "source": [
    "Da der Verbrauch von Herrn Meyer bei $20\\;000\\,\\mathrm{kWh}$ liegt, muss die $x$-Achse bis $20\\;000$ reichen. Als Startwert wird sinnvollerweise der Wert $0$ gewählt, weil die Grundgebühr auch ohne jeglichen Verbrauch gezahlt werden muss.\n",
    "\n",
    "Das Intervall auf der $x$-Achse besteht deshalb aus allen Zahlen, die innerhalb dieser Grenzen liegen (einschließlich der Randwerte), in Zeichen: \n",
    "\n",
    "$$0 \\le x \\le 20\\,000 \\quad\\text{ oder, alternative Darstellung: }\\quad [0,20\\,000].$$"
   ]
  },
  {
   "cell_type": "markdown",
   "metadata": {},
   "source": [
    "Das Zeichen $\\le$ wird *\"kleiner gleich\"* gelesen und bedeutet, dass der Anfangswert und der Endwert zum Intervall gehören. \n",
    "\n",
    "Um einen Graphen plotten zu können, müssen in diesem Intervall Punkte für die Wertetabelle festgelegt werden. Dabei hängt die Anzahl der Punkte von den Genauigkeitsansprüchen an die Grafik ab. Der Übersichtlichkeit wegen sollen fünf Punkte gleichmäßig verteilt werden. Das sind die Punkte\n",
    "\n",
    "|$x_0$ | $x_1$ | $x_2$ | $x_3$ | $x_4$|\n",
    "-------|-------|-------|-------|------|\n",
    "|0     | 5000  | 10000 | 15000 | 20000|"
   ]
  },
  {
   "cell_type": "markdown",
   "metadata": {},
   "source": [
    "Beachten Sie, dass die Nummerierung der Listenwerte mit dem Index 0 beginnt und der letzte Index deshalb um eins kleiner ist, als die Anzahl der Punkte, die das Intervall überdecken."
   ]
  },
  {
   "cell_type": "markdown",
   "metadata": {},
   "source": [
    "Die Überdeckung \n",
    "\n",
    "$$[x_0, x_1, x_2, x_3, x_4]$$\n",
    "\n",
    "besteht aus fünf Punkten und führt zu vier Teilintervallen gleicher Größe. Das sind die Teilintervalle\n",
    "\n",
    "$$\n",
    "  [0,5\\,000],\\quad [5\\,000,10\\,000],\\quad [10\\,000,15\\,000],\\quad [15\\,000,20\\,000]\n",
    "$$\n",
    "\n",
    "Die Länge eines Teilintervalls ergibt sich deshalb als\n",
    "\n",
    "$$\n",
    "  \\Delta x = \\dfrac{\\text{Länge des Intervalls}}{\\text{Anzahl der Teilintervalle}}\n",
    "           = \\dfrac{20\\,000}{4}\n",
    "           = 5\\,000\n",
    "$$"
   ]
  },
  {
   "cell_type": "markdown",
   "metadata": {},
   "source": [
    "Eine solche gleichmäßige Überdeckung lässt sich mit der Funktion `np.linspace()` erzeugen. Der Aufruf lautet\n",
    "\n",
    "`lx = np.linspace(start,stop,num=50)`\n",
    "\n",
    "In diesem Aufruf steht\n",
    "- **lx** für die zurückgegebenen Zahlenwerte. Dieser Name ist willkürlich gewählt.<br>\n",
    "  Der Buchstabe `l` kommt von `linspace`, der Buchstabe `x` gibt die Koordinatenachse an.\n",
    "- **start** und **stop** geben die Intervallgrenzen an.<br>\n",
    "  Meist wird `start < stop` sein. Es darf aber `start > stop` sein, \n",
    "  dann wird das Intervall in umgekehrter Richtung durchlaufen.\n",
    "- **num** gibt die Anzahl der zurückgegebenen Werte an. <br>\n",
    "  Wird kein Wert für `num` angegeben, so wird ein Standardwert von 50 Punkten genommen.\n",
    "  \n",
    "Auf einzelne Werte des zurückgegebenen `array`-Objekts wird mit `lx[index]` zugegriffen, zum Beispiel gibt `lx[1]` den Wert mit dem Index 1 zurück, dass ist der zweite Eintrag (vgl. die Ausgabe der nächsten Zellen).\n"
   ]
  },
  {
   "cell_type": "code",
   "execution_count": 2,
   "metadata": {},
   "outputs": [
    {
     "data": {
      "text/plain": [
       "array([    0.,  5000., 10000., 15000., 20000.])"
      ]
     },
     "execution_count": 2,
     "metadata": {},
     "output_type": "execute_result"
    }
   ],
   "source": [
    "# Erzeugung von lx\n",
    "lx = np.linspace(0, 20000, 5)\n",
    "\n",
    "# Kontrollausdruck\n",
    "lx"
   ]
  },
  {
   "cell_type": "markdown",
   "metadata": {},
   "source": [
    "Der Zugriff auf den Wert mit Index 1 erfolgt mit eckigen Klammern:"
   ]
  },
  {
   "cell_type": "code",
   "execution_count": 3,
   "metadata": {},
   "outputs": [
    {
     "data": {
      "text/plain": [
       "5000.0"
      ]
     },
     "execution_count": 3,
     "metadata": {},
     "output_type": "execute_result"
    }
   ],
   "source": [
    "lx[1]"
   ]
  },
  {
   "cell_type": "markdown",
   "metadata": {},
   "source": [
    "Nachdem das Intervall `lx` erzeugt worden ist, kann der DataFrame gebildet werden. \n",
    "\n",
    "Um das Vorgehen deutlich zu machen, wird im nächsten Schritt nur die Spalte für die $x$-Achse angelegt:"
   ]
  },
  {
   "cell_type": "code",
   "execution_count": 4,
   "metadata": {},
   "outputs": [
    {
     "data": {
      "text/html": [
       "<div>\n",
       "<style scoped>\n",
       "    .dataframe tbody tr th:only-of-type {\n",
       "        vertical-align: middle;\n",
       "    }\n",
       "\n",
       "    .dataframe tbody tr th {\n",
       "        vertical-align: top;\n",
       "    }\n",
       "\n",
       "    .dataframe thead th {\n",
       "        text-align: right;\n",
       "    }\n",
       "</style>\n",
       "<table border=\"1\" class=\"dataframe\">\n",
       "  <thead>\n",
       "    <tr style=\"text-align: right;\">\n",
       "      <th></th>\n",
       "      <th>x</th>\n",
       "    </tr>\n",
       "  </thead>\n",
       "  <tbody>\n",
       "    <tr>\n",
       "      <th>0</th>\n",
       "      <td>0.0</td>\n",
       "    </tr>\n",
       "    <tr>\n",
       "      <th>1</th>\n",
       "      <td>5000.0</td>\n",
       "    </tr>\n",
       "    <tr>\n",
       "      <th>2</th>\n",
       "      <td>10000.0</td>\n",
       "    </tr>\n",
       "    <tr>\n",
       "      <th>3</th>\n",
       "      <td>15000.0</td>\n",
       "    </tr>\n",
       "    <tr>\n",
       "      <th>4</th>\n",
       "      <td>20000.0</td>\n",
       "    </tr>\n",
       "  </tbody>\n",
       "</table>\n",
       "</div>"
      ],
      "text/plain": [
       "         x\n",
       "0      0.0\n",
       "1   5000.0\n",
       "2  10000.0\n",
       "3  15000.0\n",
       "4  20000.0"
      ]
     },
     "execution_count": 4,
     "metadata": {},
     "output_type": "execute_result"
    }
   ],
   "source": [
    "# Erzeugung eines DataFrame mit einer Spalte für die x-Achse\n",
    "df = pd.DataFrame(\n",
    "    {\n",
    "        'x': lx\n",
    "    }\n",
    ")\n",
    "\n",
    "# Kontrollausdruck\n",
    "df"
   ]
  },
  {
   "cell_type": "markdown",
   "metadata": {},
   "source": [
    "Da mit `numpy`-Objekten gerechnet werden kann, kann der DataFrame sofort komplett angelegt werden. Häufig werden die beiden Schritte \n",
    "- erstellen des `np.linspace()`-Objekts und \n",
    "- Aufstellen des `pd.DataFrame()`\n",
    "\n",
    "in einer Zelle durchgeführt. Am Ende der Zelle gibt man dann zur Kontrolle den DataFrame (oder einen Teil davon) aus.\n",
    "\n",
    "Die komplette Zelle ist dann:"
   ]
  },
  {
   "cell_type": "code",
   "execution_count": 5,
   "metadata": {},
   "outputs": [
    {
     "data": {
      "text/html": [
       "<div>\n",
       "<style scoped>\n",
       "    .dataframe tbody tr th:only-of-type {\n",
       "        vertical-align: middle;\n",
       "    }\n",
       "\n",
       "    .dataframe tbody tr th {\n",
       "        vertical-align: top;\n",
       "    }\n",
       "\n",
       "    .dataframe thead th {\n",
       "        text-align: right;\n",
       "    }\n",
       "</style>\n",
       "<table border=\"1\" class=\"dataframe\">\n",
       "  <thead>\n",
       "    <tr style=\"text-align: right;\">\n",
       "      <th></th>\n",
       "      <th>x</th>\n",
       "      <th>Meyer</th>\n",
       "      <th>Schmidt</th>\n",
       "    </tr>\n",
       "  </thead>\n",
       "  <tbody>\n",
       "    <tr>\n",
       "      <th>0</th>\n",
       "      <td>0.0</td>\n",
       "      <td>384.0</td>\n",
       "      <td>144.0</td>\n",
       "    </tr>\n",
       "    <tr>\n",
       "      <th>1</th>\n",
       "      <td>5000.0</td>\n",
       "      <td>659.0</td>\n",
       "      <td>484.0</td>\n",
       "    </tr>\n",
       "    <tr>\n",
       "      <th>2</th>\n",
       "      <td>10000.0</td>\n",
       "      <td>934.0</td>\n",
       "      <td>824.0</td>\n",
       "    </tr>\n",
       "    <tr>\n",
       "      <th>3</th>\n",
       "      <td>15000.0</td>\n",
       "      <td>1209.0</td>\n",
       "      <td>1164.0</td>\n",
       "    </tr>\n",
       "    <tr>\n",
       "      <th>4</th>\n",
       "      <td>20000.0</td>\n",
       "      <td>1484.0</td>\n",
       "      <td>1504.0</td>\n",
       "    </tr>\n",
       "  </tbody>\n",
       "</table>\n",
       "</div>"
      ],
      "text/plain": [
       "         x   Meyer  Schmidt\n",
       "0      0.0   384.0    144.0\n",
       "1   5000.0   659.0    484.0\n",
       "2  10000.0   934.0    824.0\n",
       "3  15000.0  1209.0   1164.0\n",
       "4  20000.0  1484.0   1504.0"
      ]
     },
     "execution_count": 5,
     "metadata": {},
     "output_type": "execute_result"
    }
   ],
   "source": [
    "# Erzeugung von lx\n",
    "lx = np.linspace(0, 20000, 5)\n",
    "\n",
    "# Erzeugung des gesamten DataFrame df\n",
    "df = pd.DataFrame(\n",
    "    {\n",
    "        'x': lx,\n",
    "        'Meyer': 384 + 0.055*lx,\n",
    "        'Schmidt': 144 + 0.068*lx\n",
    "    }\n",
    ")\n",
    "\n",
    "# Kontrollausdruck\n",
    "df"
   ]
  },
  {
   "cell_type": "markdown",
   "metadata": {},
   "source": [
    "Nachdem der DataFrame fertig erstellt ist, können die Daten geplottet werden. \n",
    "\n",
    "Dabei muss dem Plotbefehl mitgeteilt werden, welche Größe als $x$-Achse zu nutzen ist."
   ]
  },
  {
   "cell_type": "code",
   "execution_count": 6,
   "metadata": {},
   "outputs": [
    {
     "data": {
      "text/plain": [
       "<matplotlib.axes._subplots.AxesSubplot at 0x11355ac50>"
      ]
     },
     "execution_count": 6,
     "metadata": {},
     "output_type": "execute_result"
    },
    {
     "data": {
      "image/png": "[encoded data removed]",
      "text/plain": [
       "<Figure size 432x288 with 1 Axes>"
      ]
     },
     "metadata": {
      "image/png": {
       "height": 261,
       "width": 397
      },
      "needs_background": "light"
     },
     "output_type": "display_data"
    }
   ],
   "source": [
    "df.plot(x='x')"
   ]
  },
  {
   "cell_type": "markdown",
   "metadata": {},
   "source": [
    "Es gibt eine Fülle von Einstellmöglichkeiten, um die Ausgabe optisch aufzubereiten. Die sollen allerdings nicht an dieser Stelle thematisiert werden. \n",
    "\n",
    "**In den folgenden Aufgaben geht es darum, die Funktion `np.linspace()` genauer kennenzulernen.**"
   ]
  },
  {
   "cell_type": "markdown",
   "metadata": {},
   "source": [
    "### Aufgabe 1\n",
    "Ergänzen Sie in der folgenden Zelle den Aufruf von `np.linspace()` so, dass die Funktion\n",
    "\n",
    "$$\n",
    "  y = 3\\,x + 5\n",
    "$$\n",
    "\n",
    "für $-3 \\le x \\le 3$ mit 5 Punkten dargestellt wird."
   ]
  },
  {
   "cell_type": "markdown",
   "metadata": {},
   "source": [
    "#### Lösung"
   ]
  },
  {
   "cell_type": "code",
   "execution_count": 7,
   "metadata": {},
   "outputs": [
    {
     "data": {
      "text/html": [
       "<div>\n",
       "<style scoped>\n",
       "    .dataframe tbody tr th:only-of-type {\n",
       "        vertical-align: middle;\n",
       "    }\n",
       "\n",
       "    .dataframe tbody tr th {\n",
       "        vertical-align: top;\n",
       "    }\n",
       "\n",
       "    .dataframe thead th {\n",
       "        text-align: right;\n",
       "    }\n",
       "</style>\n",
       "<table border=\"1\" class=\"dataframe\">\n",
       "  <thead>\n",
       "    <tr style=\"text-align: right;\">\n",
       "      <th></th>\n",
       "      <th>x</th>\n",
       "      <th>y</th>\n",
       "    </tr>\n",
       "  </thead>\n",
       "  <tbody>\n",
       "    <tr>\n",
       "      <th>0</th>\n",
       "      <td>-3.0</td>\n",
       "      <td>-4.0</td>\n",
       "    </tr>\n",
       "    <tr>\n",
       "      <th>1</th>\n",
       "      <td>-1.5</td>\n",
       "      <td>0.5</td>\n",
       "    </tr>\n",
       "    <tr>\n",
       "      <th>2</th>\n",
       "      <td>0.0</td>\n",
       "      <td>5.0</td>\n",
       "    </tr>\n",
       "    <tr>\n",
       "      <th>3</th>\n",
       "      <td>1.5</td>\n",
       "      <td>9.5</td>\n",
       "    </tr>\n",
       "    <tr>\n",
       "      <th>4</th>\n",
       "      <td>3.0</td>\n",
       "      <td>14.0</td>\n",
       "    </tr>\n",
       "  </tbody>\n",
       "</table>\n",
       "</div>"
      ],
      "text/plain": [
       "     x     y\n",
       "0 -3.0  -4.0\n",
       "1 -1.5   0.5\n",
       "2  0.0   5.0\n",
       "3  1.5   9.5\n",
       "4  3.0  14.0"
      ]
     },
     "execution_count": 7,
     "metadata": {},
     "output_type": "execute_result"
    }
   ],
   "source": [
    "# Achten Sie darauf, dass Kommentarzeichen vor der nächsten Zeile zu entfernen!\n",
    "lx = np.linspace(-3,3,5)\n",
    "\n",
    "df = pd.DataFrame(\n",
    "    {\n",
    "        'x': lx,\n",
    "        'y': 3*lx + 5\n",
    "    }\n",
    ")\n",
    "\n",
    "df"
   ]
  },
  {
   "cell_type": "code",
   "execution_count": 8,
   "metadata": {},
   "outputs": [
    {
     "data": {
      "text/plain": [
       "<matplotlib.axes._subplots.AxesSubplot at 0x1138a3160>"
      ]
     },
     "execution_count": 8,
     "metadata": {},
     "output_type": "execute_result"
    },
    {
     "data": {
      "image/png": "[encoded data removed]",
      "text/plain": [
       "<Figure size 432x288 with 1 Axes>"
      ]
     },
     "metadata": {
      "image/png": {
       "height": 261,
       "width": 383
      },
      "needs_background": "light"
     },
     "output_type": "display_data"
    }
   ],
   "source": [
    "df.plot(x='x')"
   ]
  },
  {
   "cell_type": "markdown",
   "metadata": {},
   "source": [
    "### Aufgabe 2\n",
    "Geben Sie von Hand an, welche Zahlenwerte von dem Befehl \n",
    "\n",
    "`np.linspace(-3,7,5)`\n",
    "\n",
    "erzeugt werden. Überprüfen Sie dann Ihr Ergebnis mit Hilfe Ihres Notebooks."
   ]
  },
  {
   "cell_type": "markdown",
   "metadata": {},
   "source": [
    "#### Lösung\n",
    "Das Intervall $[-3,7]$ hat die Länge $\\ell = 7-(-3)=10$. \n",
    "\n",
    "Es wird in vier Teilintervalle zerlegt, jedes Teilintervall hat deshalb die Länge \n",
    "$\\ell_\\mathrm{t}= \\frac{10}{4} = 2.5$. \n",
    "\n",
    "Damit werden die folgenden Zahlenwerte ausgegeben: <br>\n",
    "`[-3, -3+1*2.5=-0.5, -3+2*2.5=2, -3+3*2.5=4.5, -3+4*2.5=7]`\n",
    "\n",
    "oder, kurz: `[-3,-0.5,2,4.5,7]`"
   ]
  },
  {
   "cell_type": "code",
   "execution_count": 9,
   "metadata": {
    "scrolled": true
   },
   "outputs": [
    {
     "data": {
      "text/plain": [
       "array([-3. , -0.5,  2. ,  4.5,  7. ])"
      ]
     },
     "execution_count": 9,
     "metadata": {},
     "output_type": "execute_result"
    }
   ],
   "source": [
    "np.linspace(-3,7,5)"
   ]
  },
  {
   "cell_type": "markdown",
   "metadata": {},
   "source": [
    "### Aufgabe 3\n",
    "\n",
    "Im Intervall $[-0.5,7.5]$ soll die Funktion\n",
    "\n",
    "$$\n",
    "  f(x) = -5\\,x + 2.5\n",
    "$$\n",
    "\n",
    "dargestellt werden. Erzeugen Sie eine Wertetabelle mit 10 Punkten und plotten Sie die Funktion"
   ]
  },
  {
   "cell_type": "markdown",
   "metadata": {},
   "source": [
    "#### Lösung"
   ]
  },
  {
   "cell_type": "code",
   "execution_count": 10,
   "metadata": {},
   "outputs": [
    {
     "data": {
      "text/html": [
       "<div>\n",
       "<style scoped>\n",
       "    .dataframe tbody tr th:only-of-type {\n",
       "        vertical-align: middle;\n",
       "    }\n",
       "\n",
       "    .dataframe tbody tr th {\n",
       "        vertical-align: top;\n",
       "    }\n",
       "\n",
       "    .dataframe thead th {\n",
       "        text-align: right;\n",
       "    }\n",
       "</style>\n",
       "<table border=\"1\" class=\"dataframe\">\n",
       "  <thead>\n",
       "    <tr style=\"text-align: right;\">\n",
       "      <th></th>\n",
       "      <th>x</th>\n",
       "      <th>y</th>\n",
       "    </tr>\n",
       "  </thead>\n",
       "  <tbody>\n",
       "    <tr>\n",
       "      <th>0</th>\n",
       "      <td>-0.500000</td>\n",
       "      <td>5.000000</td>\n",
       "    </tr>\n",
       "    <tr>\n",
       "      <th>1</th>\n",
       "      <td>0.388889</td>\n",
       "      <td>0.555556</td>\n",
       "    </tr>\n",
       "    <tr>\n",
       "      <th>2</th>\n",
       "      <td>1.277778</td>\n",
       "      <td>-3.888889</td>\n",
       "    </tr>\n",
       "    <tr>\n",
       "      <th>3</th>\n",
       "      <td>2.166667</td>\n",
       "      <td>-8.333333</td>\n",
       "    </tr>\n",
       "    <tr>\n",
       "      <th>4</th>\n",
       "      <td>3.055556</td>\n",
       "      <td>-12.777778</td>\n",
       "    </tr>\n",
       "    <tr>\n",
       "      <th>5</th>\n",
       "      <td>3.944444</td>\n",
       "      <td>-17.222222</td>\n",
       "    </tr>\n",
       "    <tr>\n",
       "      <th>6</th>\n",
       "      <td>4.833333</td>\n",
       "      <td>-21.666667</td>\n",
       "    </tr>\n",
       "    <tr>\n",
       "      <th>7</th>\n",
       "      <td>5.722222</td>\n",
       "      <td>-26.111111</td>\n",
       "    </tr>\n",
       "    <tr>\n",
       "      <th>8</th>\n",
       "      <td>6.611111</td>\n",
       "      <td>-30.555556</td>\n",
       "    </tr>\n",
       "    <tr>\n",
       "      <th>9</th>\n",
       "      <td>7.500000</td>\n",
       "      <td>-35.000000</td>\n",
       "    </tr>\n",
       "  </tbody>\n",
       "</table>\n",
       "</div>"
      ],
      "text/plain": [
       "          x          y\n",
       "0 -0.500000   5.000000\n",
       "1  0.388889   0.555556\n",
       "2  1.277778  -3.888889\n",
       "3  2.166667  -8.333333\n",
       "4  3.055556 -12.777778\n",
       "5  3.944444 -17.222222\n",
       "6  4.833333 -21.666667\n",
       "7  5.722222 -26.111111\n",
       "8  6.611111 -30.555556\n",
       "9  7.500000 -35.000000"
      ]
     },
     "execution_count": 10,
     "metadata": {},
     "output_type": "execute_result"
    }
   ],
   "source": [
    "lx = np.linspace(-0.5,7.5,10)\n",
    "\n",
    "df = pd.DataFrame(\n",
    "    {\n",
    "        'x': lx,\n",
    "        'y': -5*lx + 2.5\n",
    "    }\n",
    ")\n",
    "\n",
    "df"
   ]
  },
  {
   "cell_type": "code",
   "execution_count": 11,
   "metadata": {},
   "outputs": [
    {
     "data": {
      "text/plain": [
       "<matplotlib.axes._subplots.AxesSubplot at 0x113d6fcf8>"
      ]
     },
     "execution_count": 11,
     "metadata": {},
     "output_type": "execute_result"
    },
    {
     "data": {
      "image/png": "[encoded data removed]",
      "text/plain": [
       "<Figure size 432x288 with 1 Axes>"
      ]
     },
     "metadata": {
      "image/png": {
       "height": 261,
       "width": 377
      },
      "needs_background": "light"
     },
     "output_type": "display_data"
    }
   ],
   "source": [
    "df.plot(x='x')"
   ]
  },
  {
   "cell_type": "markdown",
   "metadata": {},
   "source": [
    "# Vollständige Liste der Parameter von np.linspace()\n",
    "\n",
    "Die Funktion `np.linspace()` hat mehr Parameter, als bis jetzt besprochen wurden. Sie kann\n",
    "auf zwei verschiedene Arten aufgerufen werden.\n",
    "\n",
    "Die vollständige Parameterliste dieser Funktion lautet entweder\n",
    "\n",
    "`lx = np.linspace(start, stop, num=50, endpoint=True, ret_step=False, dtype=None)`\n",
    "\n",
    "oder\n",
    "\n",
    "`lx, step = np.linspace(start, stop, num=50, endpoint=True, retstep=True, dtype=None)`\n",
    "\n",
    "Der Unterschied im Vergleich zum ersten Aufruf besteht darin, dass `ret_step=True` ist. Dadurch wird das `array` der Zahlen in der Variablen `lx` zurückgegeben und zusätzlich die Schrittweite in der Variablen `step`.\n",
    "\n",
    "Die Bedeutung der Aufrufparameter ist im Einzelnen:\n",
    "\n",
    "- **start**: erster zurückgegebener Wert\n",
    "- **stop**: letzter zurückgegebener Wert\n",
    "- **num**: Anzahl der zurückgegebenen Werte. Wenn hier nichts angegeben wird, werden 50 Werte zurückgegeben\n",
    "- **endpoint=True**: Der Endpunkt des Intervalls (`stop`) wird zurückgegeben \n",
    "  (Standardfall, muss nicht angegeben werden)\n",
    "- **endpoint=False**: Der Endpunkt des Intervalls (`stop`) wird nicht zurückgegeben\n",
    "  (muss angegeben werden)\n",
    "- **retstep=False**: Die Schrittweite wird nicht zurückgegeben (Standardfall, muss nicht angegeben werden)\n",
    "- **retstep=True**: Die Schrittweite wird zurückgegeben (muss angegeben werden)\n",
    "- **dtype=None**: Der Datentyp der zurückgegebenen Werte wird automatisch bestimmt \n",
    "  (Standardfall, muss nicht angegeben werden)\n",
    "- **dtype=Type**: Der Datentyp der zurückgegebenen Werte entspricht Type (muss angegeben werden)\n",
    "\n",
    "In den meisten Fällen werden die ersten drei oder vier Parameter benötigt. In seltenen Fällen kann es nötig werden, den Endpunkt des Intervalls nicht zu den Daten zu zählen. Dann setzt man `endpoint=False`. Manchmal ist es auch sinnvoll, den Datentyp angeben zu können."
   ]
  },
  {
   "cell_type": "markdown",
   "metadata": {},
   "source": [
    "### Aufgabe 4\n",
    "\n",
    "Das halboffene Intervall $-5 \\le x \\lt 5$ besteht aus allen Zahlen, die zwischen $-5$  und $+5$ liegen, wobei der Endwert des Intervalls wegen $x \\lt 5$ aber ausgeschlossen ist. Geben Sie eine Überdeckung dieses Intervalls mit 10 Punkten an. Achten Sie insbesondere darauf, dass der Endpunkt des Intervalls nicht zu den zurückgegebenen Werten gehören darf. Plotten Sie die Funktion \n",
    "\n",
    "$$\n",
    "  y = 1.3\\,x + 0.5\n",
    "$$\n",
    "\n",
    "und beantworten Sie weiterhin die Fragen\n",
    "\n",
    "- Durch wie viele Teilintervalle wird das Intervall überdeckt?\n",
    "- Welche Schrittweite ergibt sich\n",
    "- Was fällt Ihnen bei dem geplotteten Diagramm auf?"
   ]
  },
  {
   "cell_type": "markdown",
   "metadata": {},
   "source": [
    "#### Lösung"
   ]
  },
  {
   "cell_type": "code",
   "execution_count": 12,
   "metadata": {},
   "outputs": [
    {
     "data": {
      "text/plain": [
       "array([-5., -4., -3., -2., -1.,  0.,  1.,  2.,  3.,  4.])"
      ]
     },
     "execution_count": 12,
     "metadata": {},
     "output_type": "execute_result"
    }
   ],
   "source": [
    "lx = np.linspace(-5,5,num=10,endpoint=False)\n",
    "lx"
   ]
  },
  {
   "cell_type": "markdown",
   "metadata": {},
   "source": [
    "Das Intervall $-5\\le x \\lt 5$ wird durch 10 Teilintervalle überdeckt. Die Schrittweite jedes Teilintervalls beträgt $ \\ell_\\mathrm{t}=\\frac{10}{10}=1.0$. Es ist"
   ]
  },
  {
   "cell_type": "code",
   "execution_count": 13,
   "metadata": {},
   "outputs": [
    {
     "data": {
      "text/plain": [
       "5"
      ]
     },
     "execution_count": 13,
     "metadata": {},
     "output_type": "execute_result"
    }
   ],
   "source": [
    "-5 + 10*1"
   ]
  },
  {
   "cell_type": "code",
   "execution_count": 14,
   "metadata": {},
   "outputs": [
    {
     "data": {
      "image/png": "[encoded data removed]",
      "text/plain": [
       "<Figure size 432x288 with 1 Axes>"
      ]
     },
     "metadata": {
      "image/png": {
       "height": 261,
       "width": 374
      },
      "needs_background": "light"
     },
     "output_type": "display_data"
    }
   ],
   "source": [
    "df = pd.DataFrame(\n",
    "    {\n",
    "        'x': lx,\n",
    "        'y': 1.3*lx + 0.5\n",
    "    }\n",
    ")\n",
    "\n",
    "ax = df.plot(x='x')"
   ]
  },
  {
   "cell_type": "markdown",
   "metadata": {},
   "source": [
    "Die Zahl 5 wird jedoch von `np.linspace(-5,5,endpoint=False)` nicht zurückgegeben! \n",
    "\n",
    "Damit wird das letzte Teilintervall  von $4 \\le x \\lt 5$ durch das `array` nicht dargestellt, wenn `endpoint=False` ist. Der Graph endet deshalb nicht bei $x=5$, sondern bereits bei $x=4$."
   ]
  },
  {
   "cell_type": "markdown",
   "metadata": {},
   "source": [
    "### Aufgabe 5\n",
    "In wie viele Teilintervalle wird das Intervall $0\\le x \\le 10$ durch den Aufruf\n",
    "\n",
    "`lx = np.linspace(0,10,10)`\n",
    "\n",
    "zerlegt? Geben Sie auch die Schrittlänge (Länge eines Teilintervalls) an."
   ]
  },
  {
   "cell_type": "markdown",
   "metadata": {},
   "source": [
    "#### Lösung"
   ]
  },
  {
   "cell_type": "markdown",
   "metadata": {},
   "source": [
    "Das Intervall $0\\le x \\le 10$ wird durch den Aufruf `lx = np.linspace(0,10,10)` in 9 Teilintervalle zerlegt, deren Länge jeweils $\\frac{10}{9}\\approx 1.11$ ist."
   ]
  },
  {
   "cell_type": "code",
   "execution_count": 15,
   "metadata": {},
   "outputs": [
    {
     "data": {
      "text/plain": [
       "array([ 0.        ,  1.11111111,  2.22222222,  3.33333333,  4.44444444,\n",
       "        5.55555556,  6.66666667,  7.77777778,  8.88888889, 10.        ])"
      ]
     },
     "metadata": {},
     "output_type": "display_data"
    },
    {
     "data": {
      "text/plain": [
       "1.1111111111111112"
      ]
     },
     "metadata": {},
     "output_type": "display_data"
    }
   ],
   "source": [
    "lx,step = np.linspace(0,10,10,retstep=True)\n",
    "display(lx)\n",
    "display(step)"
   ]
  },
  {
   "cell_type": "markdown",
   "metadata": {},
   "source": [
    "### Aufgabe 6\n",
    "Das Intervall $0\\le x \\le 6$ soll in genau sechs Teilintervalle zerlegt werden.\n",
    "\n",
    "Schreiben Sie die notwendigen Punkte von Hand auf und geben Sie den erforderlichen `np.linspace()`-Funktionsaufruf an. \n",
    "\n",
    "Überprüfen Sie Ihr Ergebnis mit Hilfe des Notebooks"
   ]
  },
  {
   "cell_type": "markdown",
   "metadata": {},
   "source": [
    "#### Lösung"
   ]
  },
  {
   "cell_type": "markdown",
   "metadata": {},
   "source": [
    "Sollen genau sechs Teilintervalle entstehen und der Endpunkt zum zu den zurückgegebenen Werten gehören, so ist `num=7` zu setzen. Es ist"
   ]
  },
  {
   "cell_type": "code",
   "execution_count": 16,
   "metadata": {},
   "outputs": [
    {
     "data": {
      "text/plain": [
       "array([0., 1., 2., 3., 4., 5., 6.])"
      ]
     },
     "execution_count": 16,
     "metadata": {},
     "output_type": "execute_result"
    }
   ],
   "source": [
    "lx = np.linspace(0,6,7)\n",
    "lx"
   ]
  },
  {
   "cell_type": "markdown",
   "metadata": {},
   "source": [
    "### Aufgabe 7\n",
    "Welche Schrittweite liefert der Funktionsaufruf `lx = np.linspace(1,10)`? \n",
    "\n",
    "Geben Sie das Ergebnis zunächst von Hand an und überprüfen Sie es mit Hilfe des Notebooks."
   ]
  },
  {
   "cell_type": "markdown",
   "metadata": {},
   "source": [
    "#### Lösung"
   ]
  },
  {
   "cell_type": "markdown",
   "metadata": {},
   "source": [
    "Das Intervall $1\\le x \\le 10$ hat die Länge 9. Wegen `num=50` und `endpoint=True` wird es in 49 Teilintervalle zerlegt. \n",
    "\n",
    "Jedes Teilintervall hat die Länge $\\frac{9}{49}\\approx 0.1837$"
   ]
  },
  {
   "cell_type": "code",
   "execution_count": 17,
   "metadata": {},
   "outputs": [
    {
     "data": {
      "text/plain": [
       "(array([ 1.        ,  1.18367347,  1.36734694,  1.55102041,  1.73469388,\n",
       "         1.91836735,  2.10204082,  2.28571429,  2.46938776,  2.65306122,\n",
       "         2.83673469,  3.02040816,  3.20408163,  3.3877551 ,  3.57142857,\n",
       "         3.75510204,  3.93877551,  4.12244898,  4.30612245,  4.48979592,\n",
       "         4.67346939,  4.85714286,  5.04081633,  5.2244898 ,  5.40816327,\n",
       "         5.59183673,  5.7755102 ,  5.95918367,  6.14285714,  6.32653061,\n",
       "         6.51020408,  6.69387755,  6.87755102,  7.06122449,  7.24489796,\n",
       "         7.42857143,  7.6122449 ,  7.79591837,  7.97959184,  8.16326531,\n",
       "         8.34693878,  8.53061224,  8.71428571,  8.89795918,  9.08163265,\n",
       "         9.26530612,  9.44897959,  9.63265306,  9.81632653, 10.        ]),\n",
       " 0.1836734693877551)"
      ]
     },
     "execution_count": 17,
     "metadata": {},
     "output_type": "execute_result"
    }
   ],
   "source": [
    "lx,step = np.linspace(1,10,retstep=True)\n",
    "(lx,step)"
   ]
  }
 ],
 "metadata": {
  "kernelspec": {
   "display_name": "Python 3",
   "language": "python",
   "name": "python3"
  },
  "language_info": {
   "codemirror_mode": {
    "name": "ipython",
    "version": 3
   },
   "file_extension": ".py",
   "mimetype": "text/x-python",
   "name": "python",
   "nbconvert_exporter": "python",
   "pygments_lexer": "ipython3",
   "version": "3.7.2"
  }
 },
 "nbformat": 4,
 "nbformat_minor": 2
}
