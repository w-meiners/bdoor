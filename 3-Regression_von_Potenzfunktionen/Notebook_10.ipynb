{
 "cells": [
  {
   "cell_type": "markdown",
   "metadata": {},
   "source": [
    "# Information\n",
    "\n",
    "Im diesem Notebook werden Messdaten einer Potenzfunktion simuliert. Dazu wird die Funktion\n",
    "\n",
    "`mw.rand_pot_messwerte()` \n",
    "\n",
    "benutzt, ihre Aufrufparameter sind\n",
    "\n",
    "- n: Anzahl der Messpunkte\n",
    "\n",
    "- x_0, x_1: Messintervall, $x_0 \\le x \\le x_1$\n",
    "\n",
    "\n",
    "- c: Koeffizient der Messfunktion y=c*x**kappa\n",
    "- kappa: Exponent der Messfunktion y=c*x**kappa\n",
    "\n",
    "\n",
    "- epsilon: Messfehler"
   ]
  },
  {
   "cell_type": "code",
   "execution_count": 1,
   "metadata": {},
   "outputs": [],
   "source": [
    "from sympy import *\n",
    "init_printing()\n",
    "\n",
    "from matplotlib import pyplot as plt, ticker as tk\n",
    "%matplotlib inline\n",
    "%config InlineBackend.figure_format='retina'\n",
    "\n",
    "import numpy as np\n",
    "import pandas as pd\n",
    "\n",
    "from fun_expr import Function_from_Expression as FE\n",
    "import messwerte as mw\n",
    "\n",
    "from scipy.optimize import curve_fit"
   ]
  },
  {
   "cell_type": "markdown",
   "metadata": {},
   "source": [
    "Die Simulation. Die Daten, mit denen die Funktion `mw.rand_pot_messwerte()` aufgerufen werden, können verändert werden."
   ]
  },
  {
   "cell_type": "code",
   "execution_count": 16,
   "metadata": {},
   "outputs": [],
   "source": [
    "n = 11 # Anzahl der Messpunkte\n",
    "c_0 = 5 # Funktionswert bei x=1\n",
    "kappa_0 = 0.67 # Exponent\n",
    "x_0 = 1 # Startwert\n",
    "x_1 = 100 # Endwert\n",
    "epsilon=5e-2 # Fehler"
   ]
  },
  {
   "cell_type": "markdown",
   "metadata": {},
   "source": [
    "**Die Originalfunktion**"
   ]
  },
  {
   "cell_type": "code",
   "execution_count": 10,
   "metadata": {},
   "outputs": [
    {
     "data": {
      "text/latex": [
       "$$f\\left(x\\right) = 5 x^{0.67}$$"
      ],
      "text/plain": [
       "<IPython.core.display.Math object>"
      ]
     },
     "execution_count": 10,
     "metadata": {},
     "output_type": "execute_result"
    }
   ],
   "source": [
    "x = Symbol('x')\n",
    "f = FE(x, c_0*x**kappa_0,name='f')\n",
    "f.equation()"
   ]
  },
  {
   "cell_type": "markdown",
   "metadata": {},
   "source": [
    "**Die simulierten Messwerte**"
   ]
  },
  {
   "cell_type": "code",
   "execution_count": 17,
   "metadata": {},
   "outputs": [
    {
     "data": {
      "text/html": [
       "<div>\n",
       "<style scoped>\n",
       "    .dataframe tbody tr th:only-of-type {\n",
       "        vertical-align: middle;\n",
       "    }\n",
       "\n",
       "    .dataframe tbody tr th {\n",
       "        vertical-align: top;\n",
       "    }\n",
       "\n",
       "    .dataframe thead th {\n",
       "        text-align: right;\n",
       "    }\n",
       "</style>\n",
       "<table border=\"1\" class=\"dataframe\">\n",
       "  <thead>\n",
       "    <tr style=\"text-align: right;\">\n",
       "      <th></th>\n",
       "      <th>x</th>\n",
       "      <th>y</th>\n",
       "    </tr>\n",
       "  </thead>\n",
       "  <tbody>\n",
       "    <tr>\n",
       "      <th>0</th>\n",
       "      <td>1.000000</td>\n",
       "      <td>5.498587</td>\n",
       "    </tr>\n",
       "    <tr>\n",
       "      <th>1</th>\n",
       "      <td>1.584893</td>\n",
       "      <td>7.308537</td>\n",
       "    </tr>\n",
       "    <tr>\n",
       "      <th>2</th>\n",
       "      <td>2.511886</td>\n",
       "      <td>9.316531</td>\n",
       "    </tr>\n",
       "    <tr>\n",
       "      <th>3</th>\n",
       "      <td>3.981072</td>\n",
       "      <td>14.005018</td>\n",
       "    </tr>\n",
       "    <tr>\n",
       "      <th>4</th>\n",
       "      <td>6.309573</td>\n",
       "      <td>18.628612</td>\n",
       "    </tr>\n",
       "    <tr>\n",
       "      <th>5</th>\n",
       "      <td>10.000000</td>\n",
       "      <td>24.260993</td>\n",
       "    </tr>\n",
       "    <tr>\n",
       "      <th>6</th>\n",
       "      <td>15.848932</td>\n",
       "      <td>34.737293</td>\n",
       "    </tr>\n",
       "    <tr>\n",
       "      <th>7</th>\n",
       "      <td>25.118864</td>\n",
       "      <td>41.917263</td>\n",
       "    </tr>\n",
       "    <tr>\n",
       "      <th>8</th>\n",
       "      <td>39.810717</td>\n",
       "      <td>66.111193</td>\n",
       "    </tr>\n",
       "    <tr>\n",
       "      <th>9</th>\n",
       "      <td>63.095734</td>\n",
       "      <td>83.522766</td>\n",
       "    </tr>\n",
       "    <tr>\n",
       "      <th>10</th>\n",
       "      <td>100.000000</td>\n",
       "      <td>104.365983</td>\n",
       "    </tr>\n",
       "  </tbody>\n",
       "</table>\n",
       "</div>"
      ],
      "text/plain": [
       "             x           y\n",
       "0     1.000000    5.498587\n",
       "1     1.584893    7.308537\n",
       "2     2.511886    9.316531\n",
       "3     3.981072   14.005018\n",
       "4     6.309573   18.628612\n",
       "5    10.000000   24.260993\n",
       "6    15.848932   34.737293\n",
       "7    25.118864   41.917263\n",
       "8    39.810717   66.111193\n",
       "9    63.095734   83.522766\n",
       "10  100.000000  104.365983"
      ]
     },
     "execution_count": 17,
     "metadata": {},
     "output_type": "execute_result"
    }
   ],
   "source": [
    "lx, ly = mw.rand_pot_messwerte(\n",
    "    n=n,\n",
    "    x_0=x_0,\n",
    "    x_1=x_1,\n",
    "    c=c_0,\n",
    "    kappa=kappa_0,\n",
    "    epsilon=epsilon\n",
    ")\n",
    "\n",
    "df = pd.DataFrame(\n",
    "    {\n",
    "        'x': lx,\n",
    "        'y': ly\n",
    "    }\n",
    ")\n",
    "\n",
    "df"
   ]
  },
  {
   "cell_type": "markdown",
   "metadata": {},
   "source": [
    "Darstellung der Simulation in einem dopplt logarithmisch geteilten Diagramm:"
   ]
  },
  {
   "cell_type": "code",
   "execution_count": 18,
   "metadata": {},
   "outputs": [
    {
     "data": {
      "text/plain": [
       "<matplotlib.legend.Legend at 0x102a591a90>"
      ]
     },
     "execution_count": 18,
     "metadata": {},
     "output_type": "execute_result"
    },
    {
     "data": {
      "image/png": "[encoded data removed]",
      "text/plain": [
       "<Figure size 432x288 with 1 Axes>"
      ]
     },
     "metadata": {
      "image/png": {
       "height": 263,
       "width": 396
      },
      "needs_background": "light"
     },
     "output_type": "display_data"
    }
   ],
   "source": [
    "ax = df.plot(kind='scatter', loglog=True, x='x',y='y',label='simulierte Messwerte')\n",
    "\n",
    "ax.plot(df.x,f.lambdified(df.x),c='r',ls='dotted',label='Original')\n",
    "\n",
    "ax.set(xlim=(1,100),ylim=(1,200))\n",
    "ax.grid(which='major',lw=0.5,c='k')\n",
    "ax.grid(which='minor',lw=0.25,c='k')\n",
    "\n",
    "ax.legend()"
   ]
  },
  {
   "cell_type": "markdown",
   "metadata": {},
   "source": [
    "## Bestimmung der Regressionsgeraden im logarithmisch geteilten Diagramm:"
   ]
  },
  {
   "cell_type": "markdown",
   "metadata": {},
   "source": [
    "Für die Durchführung der Regression wird eine lineare Funktion benötigt:"
   ]
  },
  {
   "cell_type": "markdown",
   "metadata": {},
   "source": [
    "Im doppelt logarithmisch geteilten Diagramm liegen die Messpunkte einer Potenzfunktion mit guter Näherung auf einer Geraden. Deshalb kann für Potenzfunktionen die Methode der kleinesten Quadrate benutzt werden, um eine Regressionsgerade zu ermitteln.\n",
    "\n",
    "Diese Regressionsgerade wird aber für die logarithmische Darstellung der Funktion benutzt."
   ]
  },
  {
   "cell_type": "markdown",
   "metadata": {},
   "source": [
    "Der Funktion `curve_fit()` werden daher nicht die Daten `df.x` und `df.y` übergeben.\n",
    "Vielmehr folgt aus\n",
    "\n",
    "$$\n",
    "  y = c\\,x^\\kappa\n",
    "$$\n",
    "\n",
    "durch logarithmieren beider Seiten der Gleichung\n",
    "\n",
    "\\begin{align}\n",
    "  \\log(y) &= \\underbrace{\\log(c)}_{b} + \\underbrace{\\kappa}_{a}\\,\\log(x)\n",
    "\\end{align}\n",
    "\n",
    "Das heißt, in einem doppelt logarithmisch geteilten Diagramm ist die Potenzfunktion $y=c\\,x^\\varkappa$ eine Gerade. Die Parameter dieser Geraden können durch lineare Regression berechnet werden. Dazu werden der Funktion `curve_fit` statt `df.x` und `df.y` die logarithmierten Werte `np.log(df.x)` und `np.log(df.y)` übergeben. Für die Ergebnisse der Regression ist dann\n",
    "\n",
    "\\begin{align}\n",
    "  a &= \\kappa \\quad\\implies\\quad \\kappa = a\\\\\n",
    "  \\log(c) &= b \\quad\\implies\\quad c = \\mathrm{e}^b\n",
    "\\end{align}"
   ]
  },
  {
   "cell_type": "markdown",
   "metadata": {},
   "source": [
    "**Bestimmung der Regressionsgeraden:**"
   ]
  },
  {
   "cell_type": "code",
   "execution_count": 19,
   "metadata": {},
   "outputs": [],
   "source": [
    "p_opt = np.polyfit(np.log(df.x),np.log(df.y),1)"
   ]
  },
  {
   "cell_type": "markdown",
   "metadata": {},
   "source": [
    "**Umrechnung auf die Potenzfunktion:**"
   ]
  },
  {
   "cell_type": "code",
   "execution_count": 20,
   "metadata": {},
   "outputs": [
    {
     "data": {
      "image/png": "[encoded data removed]",
      "text/latex": [
       "$$\\left ( 5.4482982915902145, \\quad 0.6545151461635439\\right )$$"
      ],
      "text/plain": [
       "(5.4482982915902145, 0.6545151461635439)"
      ]
     },
     "execution_count": 20,
     "metadata": {},
     "output_type": "execute_result"
    }
   ],
   "source": [
    "a,b = p_opt\n",
    "kappa=a\n",
    "c=np.exp(b)\n",
    "\n",
    "(c,kappa)"
   ]
  },
  {
   "cell_type": "markdown",
   "metadata": {},
   "source": [
    "**Darstellung des Ergebnisses**"
   ]
  },
  {
   "cell_type": "code",
   "execution_count": 21,
   "metadata": {},
   "outputs": [
    {
     "data": {
      "text/plain": [
       "<matplotlib.legend.Legend at 0x101e188358>"
      ]
     },
     "execution_count": 21,
     "metadata": {},
     "output_type": "execute_result"
    },
    {
     "data": {
      "image/png": "[encoded data removed]",
      "text/plain": [
       "<Figure size 432x288 with 1 Axes>"
      ]
     },
     "metadata": {
      "image/png": {
       "height": 263,
       "width": 396
      },
      "needs_background": "light"
     },
     "output_type": "display_data"
    }
   ],
   "source": [
    "ax = df.plot(kind='scatter',loglog=True, x='x',y='y', label='Messwerte')\n",
    "\n",
    "lx = np.linspace(1,100)\n",
    "ax.plot(df.x,f.lambdified(df.x),c='r',ls='dotted',label='Original')\n",
    "ax.plot(df.x,c*df.x**kappa,c='b',label='Regression',alpha=0.5)\n",
    "\n",
    "ax.set(xlim=(1,1e2),ylim=(1,2e2))\n",
    "ax.grid(which='major',lw=0.5,c='k')\n",
    "ax.grid(which='minor',lw=0.25,c='k')\n",
    "\n",
    "ax.legend()"
   ]
  }
 ],
 "metadata": {
  "kernelspec": {
   "display_name": "Python 3",
   "language": "python",
   "name": "python3"
  },
  "language_info": {
   "codemirror_mode": {
    "name": "ipython",
    "version": 3
   },
   "file_extension": ".py",
   "mimetype": "text/x-python",
   "name": "python",
   "nbconvert_exporter": "python",
   "pygments_lexer": "ipython3",
   "version": "3.7.2"
  }
 },
 "nbformat": 4,
 "nbformat_minor": 2
}
