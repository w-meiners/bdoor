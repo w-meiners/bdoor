{
 "cells": [
  {
   "cell_type": "markdown",
   "metadata": {},
   "source": [
    "# Potenzfunktionen\n",
    "\n",
    "In der Technik treten häufig Potenzfunktionen auf. Sie haben die Form:\n",
    "\n",
    "$$\n",
    "  f(x) = c\\cdot x^\\kappa\n",
    "$$\n",
    "\n",
    "Dabei ist $c$ der Wert, der sich für $x=1$ ergibt (denn $1^\\kappa = 1$) und $\\kappa$ der Exponent. Potenzfunktionen verlaufen nicht geradlinig, sondern gekrümmt. Dabei kommt es auf den Wert von $\\kappa$ an, ob sich diese Krümmung progressiv (ansteigend) oder degressiv (abfallend) verhält. \n",
    "\n",
    "Ist der Exponent $\\kappa$ größer als 1, so liegt ein progressives Wachstum vor. Mit zunehmendem $x$ wird die Steigung im Vergleich zu einer Geraden immer größer, die Kurve liegt oberhalt jeder Tangente (wenn $c>0$ ist).\n",
    "\n",
    "Liegt $\\kappa$ zwischen 0 und 1, so ist da Wachstum degressiv. Mit zunehmendem $x$ wird die Steigung im Vergleich zu einer Geraden immer kleiner, die Kurve liegt unterhalb jeder Tangente (wenn $c<0$ ist).\n",
    "\n",
    "In der folgenden Abbildung sind Potenzfunktionen für $c=1$ gezeigt:"
   ]
  },
  {
   "cell_type": "markdown",
   "metadata": {},
   "source": [
    "![](Potenzfunktionen_Vergleich.pdf)"
   ]
  },
  {
   "cell_type": "markdown",
   "metadata": {},
   "source": [
    "In einem doppelt logarithmisch geteilten Diagramm werden aus den gekrümmten Linien Geraden:\n",
    "\n",
    "![](Potenzfunktionen_loglog.pdf)"
   ]
  },
  {
   "cell_type": "markdown",
   "metadata": {},
   "source": [
    "Zum Beispiel wird nach DIN 13829 der Volumenstrom $\\dot V_\\text{env}$ als Funktion der Druckdifferenz $\\Delta p$ zwischen Wandinnenseite und Wandaußenseite durch eine Potenzfunktion \n",
    "\n",
    "\\begin{align}\n",
    "  \\dot V_\\text{env} &= C \\cdot (\\Delta p)^n\n",
    "\\end{align}\n",
    "\n",
    "dargestellt. Der Index ${}_\\text{env}$ steht dabei für Environment. Wegen\n",
    "\n",
    "$$\n",
    "  {\\dot V}_\\text{env} = C \\cdot (\\Delta p)^n \n",
    "$$\n",
    "\n",
    "$$\n",
    "  {\\dot V}_\\text{env,50} = C \\cdot (50 Pa)^n\n",
    "$$\n",
    "\n",
    "ergibt sich nachdem die linke und die rechte Seite durcheinander dividiert werden:\n",
    "\n",
    "$$\n",
    "  \\dfrac{\\dot V_\\text{env}}{\\dot V_\\text{env,50}} = \\left(\\dfrac{\\Delta p}{50 Pa}\\right)^n\n",
    "$$\n",
    "\n",
    "oder\n",
    "\n",
    "$$\n",
    "  {\\dot V}_\\text{env} = \\dot V_\\text{env,50}\\cdot\\left(\\dfrac{\\Delta p}{50 Pa}\\right)^n\n",
    "$$"
   ]
  },
  {
   "cell_type": "markdown",
   "metadata": {},
   "source": [
    "Sind daher der Volumenstrom $\\dot V_\\text{env,50}$ bei $50Pa$ Druckdifferenz und der Exponent $n$ aus einem Blowerdoortest bekannt, dann kann zu jedem beliebigen Druck $\\Delta p$ der zugehörige Volumenstrom $\\dot V_\\text{env}$ berechnet werden."
   ]
  },
  {
   "cell_type": "code",
   "execution_count": 1,
   "metadata": {},
   "outputs": [],
   "source": [
    "from sympy import *\n",
    "init_printing()\n",
    "\n",
    "from fun_expr import Function_from_Expression as FE\n",
    "\n",
    "import matplotlib.pyplot as plt, matplotlib.ticker as tk\n",
    "%config InlineBackend.figure_format='retina'\n",
    "%matplotlib inline\n",
    "\n",
    "import pandas as pd\n",
    "import numpy as np\n",
    "\n",
    "from scipy.optimize import curve_fit\n",
    "\n",
    "import messwerte as mw"
   ]
  },
  {
   "cell_type": "markdown",
   "metadata": {},
   "source": [
    "# Beispiel\n",
    "\n",
    "In einem Raum mit $64 m^2$ Nutzfläche und einer Geschosshöhe von $3.5 m$ wurde bei $50\\,Pa$ Druckdifferenz eine Luftwechselzahl von $n_{50} = 3.5\\,h^{-1}$ Luftwechseln je Stunde gemessen. Der Exponent wurde als $n=0.667$ ermittelt.\n",
    "\n",
    "Der Zugehörige Volumenstrom ergibt sich aus der Formel\n",
    "\n",
    "$$\n",
    "  \\dot V = V_\\text{Ra}\\,n_{50}\n",
    "$$\n",
    "\n",
    "Vergleichen Sie den Verlauf von $\\dot V$ als Funktion von $\\Delta p$ in einem linear geteilten Diagramm mit dem Verlauf in einem doppelt logarithmisch geteilten Diagramm, indem Sie beide Diagramme erzeugen.\n",
    "\n",
    "Nutzen Sie für $x$ das Intervall $1 \\le x \\le 100$, wobei $x$ der Druck in Pa ist.\n",
    "\n",
    "Um ein Diagramm logarithmisch zu teilen, werden die Befehle\n",
    "\n",
    "```fig,ax = plt.subplots() # erzeuge das Diagramm\n",
    "ax.set_xscale('log') # für die x-Achse\n",
    "ax.set_yscale('log') # für die y-Achse\n",
    "```\n",
    "\n",
    "benutzt."
   ]
  },
  {
   "cell_type": "code",
   "execution_count": 2,
   "metadata": {},
   "outputs": [],
   "source": [
    "A_n = 64 # m**2\n",
    "h_ra = 3.50 # m\n",
    "\n",
    "V_ra = A_n*h_ra\n",
    "n_50 = 3.5 # h**(-1)\n",
    "\n",
    "dV_50 = V_ra*n_50\n",
    "\n",
    "n = 0.667"
   ]
  },
  {
   "cell_type": "markdown",
   "metadata": {},
   "source": [
    "Volumenstrom bei $50\\,Pa$ Druckdifferenz:"
   ]
  },
  {
   "cell_type": "code",
   "execution_count": 3,
   "metadata": {},
   "outputs": [
    {
     "data": {
      "image/png": "[encoded data removed]",
      "text/latex": [
       "$$784.0$$"
      ],
      "text/plain": [
       "784.0"
      ]
     },
     "execution_count": 3,
     "metadata": {},
     "output_type": "execute_result"
    }
   ],
   "source": [
    "dV_50 # m**3/h"
   ]
  },
  {
   "cell_type": "markdown",
   "metadata": {},
   "source": [
    "Die Potenzfunktion:"
   ]
  },
  {
   "cell_type": "code",
   "execution_count": 4,
   "metadata": {},
   "outputs": [
    {
     "data": {
      "text/latex": [
       "$$f\\left(x\\right) = 57.6903361872067 x^{0.667}$$"
      ],
      "text/plain": [
       "<IPython.core.display.Math object>"
      ]
     },
     "execution_count": 4,
     "metadata": {},
     "output_type": "execute_result"
    }
   ],
   "source": [
    "x = Symbol('x')\n",
    "\n",
    "f = FE(x, dV_50*(x/50)**n, name='f')\n",
    "f.equation()"
   ]
  },
  {
   "cell_type": "markdown",
   "metadata": {},
   "source": [
    "Der DataFrame mit 100 Messpunkten:"
   ]
  },
  {
   "cell_type": "code",
   "execution_count": 5,
   "metadata": {},
   "outputs": [
    {
     "data": {
      "text/html": [
       "<div>\n",
       "<style scoped>\n",
       "    .dataframe tbody tr th:only-of-type {\n",
       "        vertical-align: middle;\n",
       "    }\n",
       "\n",
       "    .dataframe tbody tr th {\n",
       "        vertical-align: top;\n",
       "    }\n",
       "\n",
       "    .dataframe thead th {\n",
       "        text-align: right;\n",
       "    }\n",
       "</style>\n",
       "<table border=\"1\" class=\"dataframe\">\n",
       "  <thead>\n",
       "    <tr style=\"text-align: right;\">\n",
       "      <th></th>\n",
       "      <th>x</th>\n",
       "      <th>y</th>\n",
       "    </tr>\n",
       "  </thead>\n",
       "  <tbody>\n",
       "    <tr>\n",
       "      <th>0</th>\n",
       "      <td>1.0</td>\n",
       "      <td>57.690336</td>\n",
       "    </tr>\n",
       "    <tr>\n",
       "      <th>1</th>\n",
       "      <td>2.0</td>\n",
       "      <td>91.598862</td>\n",
       "    </tr>\n",
       "    <tr>\n",
       "      <th>2</th>\n",
       "      <td>3.0</td>\n",
       "      <td>120.044688</td>\n",
       "    </tr>\n",
       "    <tr>\n",
       "      <th>3</th>\n",
       "      <td>4.0</td>\n",
       "      <td>145.437729</td>\n",
       "    </tr>\n",
       "    <tr>\n",
       "      <th>4</th>\n",
       "      <td>5.0</td>\n",
       "      <td>168.778088</td>\n",
       "    </tr>\n",
       "  </tbody>\n",
       "</table>\n",
       "</div>"
      ],
      "text/plain": [
       "     x           y\n",
       "0  1.0   57.690336\n",
       "1  2.0   91.598862\n",
       "2  3.0  120.044688\n",
       "3  4.0  145.437729\n",
       "4  5.0  168.778088"
      ]
     },
     "execution_count": 5,
     "metadata": {},
     "output_type": "execute_result"
    }
   ],
   "source": [
    "lx = np.linspace(1,100,100)\n",
    "\n",
    "df = pd.DataFrame(\n",
    "    {\n",
    "        'x': lx,\n",
    "        'y': f.lambdified(lx)\n",
    "    }\n",
    ")\n",
    "\n",
    "df.head()"
   ]
  },
  {
   "cell_type": "markdown",
   "metadata": {},
   "source": [
    "Darstellung des Funktionsverlaufs:"
   ]
  },
  {
   "cell_type": "code",
   "execution_count": 6,
   "metadata": {},
   "outputs": [
    {
     "data": {
      "image/png": "[encoded data removed]",
      "text/plain": [
       "<Figure size 432x288 with 1 Axes>"
      ]
     },
     "metadata": {
      "image/png": {
       "height": 263,
       "width": 412
      },
      "needs_background": "light"
     },
     "output_type": "display_data"
    }
   ],
   "source": [
    "ax = df.plot(x='x')\n",
    "\n",
    "ax.set(\n",
    "    xlabel=r'$\\Delta p$ in $[Pa]$',\n",
    "    ylabel=r'$\\dot V$ in $\\left[\\frac{m^3}{h}\\right]$'\n",
    ")\n",
    "\n",
    "ax.grid(lw=0.5,c='k')"
   ]
  },
  {
   "cell_type": "markdown",
   "metadata": {},
   "source": [
    "Darstellung des Funktionsverlaufs im doppelt logarithmisch geteilten Diagramm:"
   ]
  },
  {
   "cell_type": "code",
   "execution_count": 7,
   "metadata": {},
   "outputs": [
    {
     "data": {
      "image/png": "[encoded data removed]",
      "text/plain": [
       "<Figure size 432x288 with 1 Axes>"
      ]
     },
     "metadata": {
      "image/png": {
       "height": 265,
       "width": 403
      },
      "needs_background": "light"
     },
     "output_type": "display_data"
    }
   ],
   "source": [
    "ax = df.plot(x='x',y='y',label=r\"$\\dot V_{env}$\")\n",
    "\n",
    "ax.set(\n",
    "    xlabel=r'$\\Delta p$ in $[Pa]$',\n",
    "    ylabel=r'$\\dot V$ in $\\left[\\frac{m^3}{h}\\right]$'\n",
    ")\n",
    "\n",
    "ax.set_xscale('log')\n",
    "ax.set_yscale('log')\n",
    "ax.set(xlim=(1,100),ylim=(1,2000))\n",
    "ax.grid(lw=0.5,c='k')\n",
    "ax.grid(which='minor',lw=0.25,c='k')"
   ]
  },
  {
   "cell_type": "markdown",
   "metadata": {},
   "source": [
    "# Aufgabe\n",
    "\n",
    "Bei einem Versuch wurden für das obige Gebäude lediglich zwei Messungen durchgeführt und dabei für einen Druck von $50\\,Pa$ ein Volumenstrom von $784\\,\\frac{m^3}{h}$ und bei $100\\,Pa$ ein Volumenstrom von $1245\\,\\frac{m^3}{h}$ gemessen.\n",
    "\n",
    "Um $\\dot V_\\text{env}$ bei einem Luftdruck von $4\\,Pa$ zu berechnen, wurde der folgende lineare Funktionsansatz genutzt:\n",
    "\n",
    "$$\n",
    "  \\dot V_\\text{env} = \n",
    "  \\dfrac{\\dot V_\\text{env,100} - \\dot V_\\text{env,50}}\n",
    "        {50\\,Pa}\\cdot (\\Delta p - 50\\,Pa) \n",
    "  + \\dot V_\\text{env,50}\n",
    "$$\n",
    "\n",
    "1. Berechnen Sie die beiden Werte $\\dot V_\\text{env}$ für $50\\,Pa$ und für $100\\,Pa$ auf eine Nachkommastelle genau.\n",
    "2. Überprüfen Sie, ob dieser Ansatz für $\\Delta p = 50\\,Pa$ und für $\\Delta p = 100\\,Pa$ korrekte Werte liefert.\n",
    "3. Wie ist das Ergebnis bei $\\Delta p = 4\\,Pa$ zu bewerten? "
   ]
  }
 ],
 "metadata": {
  "kernelspec": {
   "display_name": "Python 3",
   "language": "python",
   "name": "python3"
  },
  "language_info": {
   "codemirror_mode": {
    "name": "ipython",
    "version": 3
   },
   "file_extension": ".py",
   "mimetype": "text/x-python",
   "name": "python",
   "nbconvert_exporter": "python",
   "pygments_lexer": "ipython3",
   "version": "3.7.2"
  }
 },
 "nbformat": 4,
 "nbformat_minor": 2
}
